{
 "cells": [
  {
   "cell_type": "code",
   "execution_count": 32,
   "metadata": {},
   "outputs": [],
   "source": [
    "from phi.knowledge.pdf import PDFUrlKnowledgeBase\n",
    "from phi.vectordb.lancedb import LanceDb\n",
    "from phi.embedder.ollama import OllamaEmbedder\n",
    "from phi.agent import Agent\n",
    "from phi.storage.agent.sqlite import SqlAgentStorage\n",
    "from phi.model.ollama import Ollama\n",
    "from phi.model.groq import Groq\n",
    "import os\n",
    "from dotenv import load_dotenv\n",
    "load_dotenv()\n",
    "api_key = os.getenv(\"GROQ_API_KEY\")\n"
   ]
  },
  {
   "cell_type": "code",
   "execution_count": 35,
   "metadata": {},
   "outputs": [],
   "source": [
    "model=Groq(api_key=api_key,id=\"llama-3.1-70b-versatile\")\n",
    "# Define the database URL where the vector database will be stored\n",
    "db_url = \"/tmp/lancedb\""
   ]
  },
  {
   "cell_type": "code",
   "execution_count": 23,
   "metadata": {},
   "outputs": [],
   "source": [
    "\n",
    "\n",
    "# Configure the language model\n",
    "model = Ollama(model=\"llama3.1\", temperature=0.0)"
   ]
  },
  {
   "cell_type": "code",
   "execution_count": 24,
   "metadata": {},
   "outputs": [],
   "source": [
    "# Create Ollama embedder\n",
    "embedder = OllamaEmbedder(model=\"nomic-embed-text\", dimensions=768)"
   ]
  },
  {
   "cell_type": "code",
   "execution_count": 25,
   "metadata": {},
   "outputs": [
    {
     "data": {
      "text/html": [
       "<pre style=\"white-space:pre;overflow-x:auto;line-height:normal;font-family:Menlo,'DejaVu Sans Mono',consolas,'Courier New',monospace\"><span style=\"color: #008000; text-decoration-color: #008000\">DEBUG   </span> Creating table: new_recipes                                                                               \n",
       "</pre>\n"
      ],
      "text/plain": [
       "\u001b[32mDEBUG   \u001b[0m Creating table: new_recipes                                                                               \n"
      ]
     },
     "metadata": {},
     "output_type": "display_data"
    },
    {
     "data": {
      "text/html": [
       "<pre style=\"white-space:pre;overflow-x:auto;line-height:normal;font-family:Menlo,'DejaVu Sans Mono',consolas,'Courier New',monospace\"><span style=\"color: #008000; text-decoration-color: #008000\">DEBUG   </span> Initialized LanceDb with table: <span style=\"color: #008000; text-decoration-color: #008000\">'new_recipes'</span>                                                             \n",
       "</pre>\n"
      ],
      "text/plain": [
       "\u001b[32mDEBUG   \u001b[0m Initialized LanceDb with table: \u001b[32m'new_recipes'\u001b[0m                                                             \n"
      ]
     },
     "metadata": {},
     "output_type": "display_data"
    }
   ],
   "source": [
    "# Create the vector database\n",
    "vector_db = LanceDb(\n",
    "    table_name=\"new_recipes\",  # Table name in the vector database\n",
    "    uri=db_url,  # Location to initiate/create the vector database\n",
    "    embedder=embedder,  # Without using this, it will use OpenAI embeddings by default\n",
    ")"
   ]
  },
  {
   "cell_type": "code",
   "execution_count": 26,
   "metadata": {},
   "outputs": [],
   "source": [
    "# Create a knowledge base from a PDF URL using LanceDb for vector storage and OllamaEmbedder for embedding\n",
    "knowledge_base = PDFUrlKnowledgeBase(\n",
    "    urls=[\"https://phi-public.s3.amazonaws.com/recipes/ThaiRecipes.pdf\"],\n",
    "    vector_db=vector_db,\n",
    ")\n"
   ]
  },
  {
   "cell_type": "code",
   "execution_count": 27,
   "metadata": {},
   "outputs": [
    {
     "data": {
      "text/html": [
       "<pre style=\"white-space:pre;overflow-x:auto;line-height:normal;font-family:Menlo,'DejaVu Sans Mono',consolas,'Courier New',monospace\"><span style=\"color: #000080; text-decoration-color: #000080\">INFO    </span> Dropping collection                                                                                       \n",
       "</pre>\n"
      ],
      "text/plain": [
       "\u001b[34mINFO    \u001b[0m Dropping collection                                                                                       \n"
      ]
     },
     "metadata": {},
     "output_type": "display_data"
    },
    {
     "data": {
      "text/html": [
       "<pre style=\"white-space:pre;overflow-x:auto;line-height:normal;font-family:Menlo,'DejaVu Sans Mono',consolas,'Courier New',monospace\"><span style=\"color: #008000; text-decoration-color: #008000\">DEBUG   </span> Deleting collection: new_recipes                                                                          \n",
       "</pre>\n"
      ],
      "text/plain": [
       "\u001b[32mDEBUG   \u001b[0m Deleting collection: new_recipes                                                                          \n"
      ]
     },
     "metadata": {},
     "output_type": "display_data"
    },
    {
     "data": {
      "text/html": [
       "<pre style=\"white-space:pre;overflow-x:auto;line-height:normal;font-family:Menlo,'DejaVu Sans Mono',consolas,'Courier New',monospace\"><span style=\"color: #000080; text-decoration-color: #000080\">INFO    </span> Creating collection                                                                                       \n",
       "</pre>\n"
      ],
      "text/plain": [
       "\u001b[34mINFO    \u001b[0m Creating collection                                                                                       \n"
      ]
     },
     "metadata": {},
     "output_type": "display_data"
    },
    {
     "data": {
      "text/html": [
       "<pre style=\"white-space:pre;overflow-x:auto;line-height:normal;font-family:Menlo,'DejaVu Sans Mono',consolas,'Courier New',monospace\"><span style=\"color: #008000; text-decoration-color: #008000\">DEBUG   </span> Creating table: new_recipes                                                                               \n",
       "</pre>\n"
      ],
      "text/plain": [
       "\u001b[32mDEBUG   \u001b[0m Creating table: new_recipes                                                                               \n"
      ]
     },
     "metadata": {},
     "output_type": "display_data"
    },
    {
     "data": {
      "text/html": [
       "<pre style=\"white-space:pre;overflow-x:auto;line-height:normal;font-family:Menlo,'DejaVu Sans Mono',consolas,'Courier New',monospace\"><span style=\"color: #000080; text-decoration-color: #000080\">INFO    </span> Loading knowledge base                                                                                    \n",
       "</pre>\n"
      ],
      "text/plain": [
       "\u001b[34mINFO    \u001b[0m Loading knowledge base                                                                                    \n"
      ]
     },
     "metadata": {},
     "output_type": "display_data"
    },
    {
     "data": {
      "text/html": [
       "<pre style=\"white-space:pre;overflow-x:auto;line-height:normal;font-family:Menlo,'DejaVu Sans Mono',consolas,'Courier New',monospace\"><span style=\"color: #000080; text-decoration-color: #000080\">INFO    </span> Reading: <span style=\"color: #0000ff; text-decoration-color: #0000ff; text-decoration: underline\">https://phi-public.s3.amazonaws.com/recipes/ThaiRecipes.pdf</span>                                      \n",
       "</pre>\n"
      ],
      "text/plain": [
       "\u001b[34mINFO    \u001b[0m Reading: \u001b[4;94mhttps://phi-public.s3.amazonaws.com/recipes/ThaiRecipes.pdf\u001b[0m                                      \n"
      ]
     },
     "metadata": {},
     "output_type": "display_data"
    },
    {
     "data": {
      "text/html": [
       "<pre style=\"white-space:pre;overflow-x:auto;line-height:normal;font-family:Menlo,'DejaVu Sans Mono',consolas,'Courier New',monospace\"><span style=\"color: #008000; text-decoration-color: #008000\">DEBUG   </span> Inserting <span style=\"color: #008080; text-decoration-color: #008080; font-weight: bold\">14</span> documents                                                                                    \n",
       "</pre>\n"
      ],
      "text/plain": [
       "\u001b[32mDEBUG   \u001b[0m Inserting \u001b[1;36m14\u001b[0m documents                                                                                    \n"
      ]
     },
     "metadata": {},
     "output_type": "display_data"
    },
    {
     "data": {
      "text/html": [
       "<pre style=\"white-space:pre;overflow-x:auto;line-height:normal;font-family:Menlo,'DejaVu Sans Mono',consolas,'Courier New',monospace\"><span style=\"color: #008000; text-decoration-color: #008000\">DEBUG   </span> Inserted document: ThaiRecipes <span style=\"font-weight: bold\">({</span><span style=\"color: #008000; text-decoration-color: #008000\">'page'</span>: <span style=\"color: #008080; text-decoration-color: #008080; font-weight: bold\">1</span>, <span style=\"color: #008000; text-decoration-color: #008000\">'chunk'</span>: <span style=\"color: #008080; text-decoration-color: #008080; font-weight: bold\">1</span>, <span style=\"color: #008000; text-decoration-color: #008000\">'chunk_size'</span>: <span style=\"color: #008080; text-decoration-color: #008080; font-weight: bold\">54</span><span style=\"font-weight: bold\">})</span>                                \n",
       "</pre>\n"
      ],
      "text/plain": [
       "\u001b[32mDEBUG   \u001b[0m Inserted document: ThaiRecipes \u001b[1m(\u001b[0m\u001b[1m{\u001b[0m\u001b[32m'page'\u001b[0m: \u001b[1;36m1\u001b[0m, \u001b[32m'chunk'\u001b[0m: \u001b[1;36m1\u001b[0m, \u001b[32m'chunk_size'\u001b[0m: \u001b[1;36m54\u001b[0m\u001b[1m}\u001b[0m\u001b[1m)\u001b[0m                                \n"
      ]
     },
     "metadata": {},
     "output_type": "display_data"
    },
    {
     "data": {
      "text/html": [
       "<pre style=\"white-space:pre;overflow-x:auto;line-height:normal;font-family:Menlo,'DejaVu Sans Mono',consolas,'Courier New',monospace\"><span style=\"color: #008000; text-decoration-color: #008000\">DEBUG   </span> Inserted document: ThaiRecipes <span style=\"font-weight: bold\">({</span><span style=\"color: #008000; text-decoration-color: #008000\">'page'</span>: <span style=\"color: #008080; text-decoration-color: #008080; font-weight: bold\">2</span>, <span style=\"color: #008000; text-decoration-color: #008000\">'chunk'</span>: <span style=\"color: #008080; text-decoration-color: #008080; font-weight: bold\">1</span>, <span style=\"color: #008000; text-decoration-color: #008000\">'chunk_size'</span>: <span style=\"color: #008080; text-decoration-color: #008080; font-weight: bold\">1387</span><span style=\"font-weight: bold\">})</span>                              \n",
       "</pre>\n"
      ],
      "text/plain": [
       "\u001b[32mDEBUG   \u001b[0m Inserted document: ThaiRecipes \u001b[1m(\u001b[0m\u001b[1m{\u001b[0m\u001b[32m'page'\u001b[0m: \u001b[1;36m2\u001b[0m, \u001b[32m'chunk'\u001b[0m: \u001b[1;36m1\u001b[0m, \u001b[32m'chunk_size'\u001b[0m: \u001b[1;36m1387\u001b[0m\u001b[1m}\u001b[0m\u001b[1m)\u001b[0m                              \n"
      ]
     },
     "metadata": {},
     "output_type": "display_data"
    },
    {
     "data": {
      "text/html": [
       "<pre style=\"white-space:pre;overflow-x:auto;line-height:normal;font-family:Menlo,'DejaVu Sans Mono',consolas,'Courier New',monospace\"><span style=\"color: #008000; text-decoration-color: #008000\">DEBUG   </span> Inserted document: ThaiRecipes <span style=\"font-weight: bold\">({</span><span style=\"color: #008000; text-decoration-color: #008000\">'page'</span>: <span style=\"color: #008080; text-decoration-color: #008080; font-weight: bold\">3</span>, <span style=\"color: #008000; text-decoration-color: #008000\">'chunk'</span>: <span style=\"color: #008080; text-decoration-color: #008080; font-weight: bold\">1</span>, <span style=\"color: #008000; text-decoration-color: #008000\">'chunk_size'</span>: <span style=\"color: #008080; text-decoration-color: #008080; font-weight: bold\">2088</span><span style=\"font-weight: bold\">})</span>                              \n",
       "</pre>\n"
      ],
      "text/plain": [
       "\u001b[32mDEBUG   \u001b[0m Inserted document: ThaiRecipes \u001b[1m(\u001b[0m\u001b[1m{\u001b[0m\u001b[32m'page'\u001b[0m: \u001b[1;36m3\u001b[0m, \u001b[32m'chunk'\u001b[0m: \u001b[1;36m1\u001b[0m, \u001b[32m'chunk_size'\u001b[0m: \u001b[1;36m2088\u001b[0m\u001b[1m}\u001b[0m\u001b[1m)\u001b[0m                              \n"
      ]
     },
     "metadata": {},
     "output_type": "display_data"
    },
    {
     "data": {
      "text/html": [
       "<pre style=\"white-space:pre;overflow-x:auto;line-height:normal;font-family:Menlo,'DejaVu Sans Mono',consolas,'Courier New',monospace\"><span style=\"color: #008000; text-decoration-color: #008000\">DEBUG   </span> Inserted document: ThaiRecipes <span style=\"font-weight: bold\">({</span><span style=\"color: #008000; text-decoration-color: #008000\">'page'</span>: <span style=\"color: #008080; text-decoration-color: #008080; font-weight: bold\">4</span>, <span style=\"color: #008000; text-decoration-color: #008000\">'chunk'</span>: <span style=\"color: #008080; text-decoration-color: #008080; font-weight: bold\">1</span>, <span style=\"color: #008000; text-decoration-color: #008000\">'chunk_size'</span>: <span style=\"color: #008080; text-decoration-color: #008080; font-weight: bold\">1649</span><span style=\"font-weight: bold\">})</span>                              \n",
       "</pre>\n"
      ],
      "text/plain": [
       "\u001b[32mDEBUG   \u001b[0m Inserted document: ThaiRecipes \u001b[1m(\u001b[0m\u001b[1m{\u001b[0m\u001b[32m'page'\u001b[0m: \u001b[1;36m4\u001b[0m, \u001b[32m'chunk'\u001b[0m: \u001b[1;36m1\u001b[0m, \u001b[32m'chunk_size'\u001b[0m: \u001b[1;36m1649\u001b[0m\u001b[1m}\u001b[0m\u001b[1m)\u001b[0m                              \n"
      ]
     },
     "metadata": {},
     "output_type": "display_data"
    },
    {
     "data": {
      "text/html": [
       "<pre style=\"white-space:pre;overflow-x:auto;line-height:normal;font-family:Menlo,'DejaVu Sans Mono',consolas,'Courier New',monospace\"><span style=\"color: #008000; text-decoration-color: #008000\">DEBUG   </span> Inserted document: ThaiRecipes <span style=\"font-weight: bold\">({</span><span style=\"color: #008000; text-decoration-color: #008000\">'page'</span>: <span style=\"color: #008080; text-decoration-color: #008080; font-weight: bold\">5</span>, <span style=\"color: #008000; text-decoration-color: #008000\">'chunk'</span>: <span style=\"color: #008080; text-decoration-color: #008080; font-weight: bold\">1</span>, <span style=\"color: #008000; text-decoration-color: #008000\">'chunk_size'</span>: <span style=\"color: #008080; text-decoration-color: #008080; font-weight: bold\">1275</span><span style=\"font-weight: bold\">})</span>                              \n",
       "</pre>\n"
      ],
      "text/plain": [
       "\u001b[32mDEBUG   \u001b[0m Inserted document: ThaiRecipes \u001b[1m(\u001b[0m\u001b[1m{\u001b[0m\u001b[32m'page'\u001b[0m: \u001b[1;36m5\u001b[0m, \u001b[32m'chunk'\u001b[0m: \u001b[1;36m1\u001b[0m, \u001b[32m'chunk_size'\u001b[0m: \u001b[1;36m1275\u001b[0m\u001b[1m}\u001b[0m\u001b[1m)\u001b[0m                              \n"
      ]
     },
     "metadata": {},
     "output_type": "display_data"
    },
    {
     "data": {
      "text/html": [
       "<pre style=\"white-space:pre;overflow-x:auto;line-height:normal;font-family:Menlo,'DejaVu Sans Mono',consolas,'Courier New',monospace\"><span style=\"color: #008000; text-decoration-color: #008000\">DEBUG   </span> Inserted document: ThaiRecipes <span style=\"font-weight: bold\">({</span><span style=\"color: #008000; text-decoration-color: #008000\">'page'</span>: <span style=\"color: #008080; text-decoration-color: #008080; font-weight: bold\">6</span>, <span style=\"color: #008000; text-decoration-color: #008000\">'chunk'</span>: <span style=\"color: #008080; text-decoration-color: #008080; font-weight: bold\">1</span>, <span style=\"color: #008000; text-decoration-color: #008000\">'chunk_size'</span>: <span style=\"color: #008080; text-decoration-color: #008080; font-weight: bold\">1412</span><span style=\"font-weight: bold\">})</span>                              \n",
       "</pre>\n"
      ],
      "text/plain": [
       "\u001b[32mDEBUG   \u001b[0m Inserted document: ThaiRecipes \u001b[1m(\u001b[0m\u001b[1m{\u001b[0m\u001b[32m'page'\u001b[0m: \u001b[1;36m6\u001b[0m, \u001b[32m'chunk'\u001b[0m: \u001b[1;36m1\u001b[0m, \u001b[32m'chunk_size'\u001b[0m: \u001b[1;36m1412\u001b[0m\u001b[1m}\u001b[0m\u001b[1m)\u001b[0m                              \n"
      ]
     },
     "metadata": {},
     "output_type": "display_data"
    },
    {
     "data": {
      "text/html": [
       "<pre style=\"white-space:pre;overflow-x:auto;line-height:normal;font-family:Menlo,'DejaVu Sans Mono',consolas,'Courier New',monospace\"><span style=\"color: #008000; text-decoration-color: #008000\">DEBUG   </span> Inserted document: ThaiRecipes <span style=\"font-weight: bold\">({</span><span style=\"color: #008000; text-decoration-color: #008000\">'page'</span>: <span style=\"color: #008080; text-decoration-color: #008080; font-weight: bold\">7</span>, <span style=\"color: #008000; text-decoration-color: #008000\">'chunk'</span>: <span style=\"color: #008080; text-decoration-color: #008080; font-weight: bold\">1</span>, <span style=\"color: #008000; text-decoration-color: #008000\">'chunk_size'</span>: <span style=\"color: #008080; text-decoration-color: #008080; font-weight: bold\">1427</span><span style=\"font-weight: bold\">})</span>                              \n",
       "</pre>\n"
      ],
      "text/plain": [
       "\u001b[32mDEBUG   \u001b[0m Inserted document: ThaiRecipes \u001b[1m(\u001b[0m\u001b[1m{\u001b[0m\u001b[32m'page'\u001b[0m: \u001b[1;36m7\u001b[0m, \u001b[32m'chunk'\u001b[0m: \u001b[1;36m1\u001b[0m, \u001b[32m'chunk_size'\u001b[0m: \u001b[1;36m1427\u001b[0m\u001b[1m}\u001b[0m\u001b[1m)\u001b[0m                              \n"
      ]
     },
     "metadata": {},
     "output_type": "display_data"
    },
    {
     "data": {
      "text/html": [
       "<pre style=\"white-space:pre;overflow-x:auto;line-height:normal;font-family:Menlo,'DejaVu Sans Mono',consolas,'Courier New',monospace\"><span style=\"color: #008000; text-decoration-color: #008000\">DEBUG   </span> Inserted document: ThaiRecipes <span style=\"font-weight: bold\">({</span><span style=\"color: #008000; text-decoration-color: #008000\">'page'</span>: <span style=\"color: #008080; text-decoration-color: #008080; font-weight: bold\">8</span>, <span style=\"color: #008000; text-decoration-color: #008000\">'chunk'</span>: <span style=\"color: #008080; text-decoration-color: #008080; font-weight: bold\">1</span>, <span style=\"color: #008000; text-decoration-color: #008000\">'chunk_size'</span>: <span style=\"color: #008080; text-decoration-color: #008080; font-weight: bold\">1497</span><span style=\"font-weight: bold\">})</span>                              \n",
       "</pre>\n"
      ],
      "text/plain": [
       "\u001b[32mDEBUG   \u001b[0m Inserted document: ThaiRecipes \u001b[1m(\u001b[0m\u001b[1m{\u001b[0m\u001b[32m'page'\u001b[0m: \u001b[1;36m8\u001b[0m, \u001b[32m'chunk'\u001b[0m: \u001b[1;36m1\u001b[0m, \u001b[32m'chunk_size'\u001b[0m: \u001b[1;36m1497\u001b[0m\u001b[1m}\u001b[0m\u001b[1m)\u001b[0m                              \n"
      ]
     },
     "metadata": {},
     "output_type": "display_data"
    },
    {
     "data": {
      "text/html": [
       "<pre style=\"white-space:pre;overflow-x:auto;line-height:normal;font-family:Menlo,'DejaVu Sans Mono',consolas,'Courier New',monospace\"><span style=\"color: #008000; text-decoration-color: #008000\">DEBUG   </span> Inserted document: ThaiRecipes <span style=\"font-weight: bold\">({</span><span style=\"color: #008000; text-decoration-color: #008000\">'page'</span>: <span style=\"color: #008080; text-decoration-color: #008080; font-weight: bold\">9</span>, <span style=\"color: #008000; text-decoration-color: #008000\">'chunk'</span>: <span style=\"color: #008080; text-decoration-color: #008080; font-weight: bold\">1</span>, <span style=\"color: #008000; text-decoration-color: #008000\">'chunk_size'</span>: <span style=\"color: #008080; text-decoration-color: #008080; font-weight: bold\">1441</span><span style=\"font-weight: bold\">})</span>                              \n",
       "</pre>\n"
      ],
      "text/plain": [
       "\u001b[32mDEBUG   \u001b[0m Inserted document: ThaiRecipes \u001b[1m(\u001b[0m\u001b[1m{\u001b[0m\u001b[32m'page'\u001b[0m: \u001b[1;36m9\u001b[0m, \u001b[32m'chunk'\u001b[0m: \u001b[1;36m1\u001b[0m, \u001b[32m'chunk_size'\u001b[0m: \u001b[1;36m1441\u001b[0m\u001b[1m}\u001b[0m\u001b[1m)\u001b[0m                              \n"
      ]
     },
     "metadata": {},
     "output_type": "display_data"
    },
    {
     "data": {
      "text/html": [
       "<pre style=\"white-space:pre;overflow-x:auto;line-height:normal;font-family:Menlo,'DejaVu Sans Mono',consolas,'Courier New',monospace\"><span style=\"color: #008000; text-decoration-color: #008000\">DEBUG   </span> Inserted document: ThaiRecipes <span style=\"font-weight: bold\">({</span><span style=\"color: #008000; text-decoration-color: #008000\">'page'</span>: <span style=\"color: #008080; text-decoration-color: #008080; font-weight: bold\">10</span>, <span style=\"color: #008000; text-decoration-color: #008000\">'chunk'</span>: <span style=\"color: #008080; text-decoration-color: #008080; font-weight: bold\">1</span>, <span style=\"color: #008000; text-decoration-color: #008000\">'chunk_size'</span>: <span style=\"color: #008080; text-decoration-color: #008080; font-weight: bold\">1258</span><span style=\"font-weight: bold\">})</span>                             \n",
       "</pre>\n"
      ],
      "text/plain": [
       "\u001b[32mDEBUG   \u001b[0m Inserted document: ThaiRecipes \u001b[1m(\u001b[0m\u001b[1m{\u001b[0m\u001b[32m'page'\u001b[0m: \u001b[1;36m10\u001b[0m, \u001b[32m'chunk'\u001b[0m: \u001b[1;36m1\u001b[0m, \u001b[32m'chunk_size'\u001b[0m: \u001b[1;36m1258\u001b[0m\u001b[1m}\u001b[0m\u001b[1m)\u001b[0m                             \n"
      ]
     },
     "metadata": {},
     "output_type": "display_data"
    },
    {
     "data": {
      "text/html": [
       "<pre style=\"white-space:pre;overflow-x:auto;line-height:normal;font-family:Menlo,'DejaVu Sans Mono',consolas,'Courier New',monospace\"><span style=\"color: #008000; text-decoration-color: #008000\">DEBUG   </span> Inserted document: ThaiRecipes <span style=\"font-weight: bold\">({</span><span style=\"color: #008000; text-decoration-color: #008000\">'page'</span>: <span style=\"color: #008080; text-decoration-color: #008080; font-weight: bold\">11</span>, <span style=\"color: #008000; text-decoration-color: #008000\">'chunk'</span>: <span style=\"color: #008080; text-decoration-color: #008080; font-weight: bold\">1</span>, <span style=\"color: #008000; text-decoration-color: #008000\">'chunk_size'</span>: <span style=\"color: #008080; text-decoration-color: #008080; font-weight: bold\">1279</span><span style=\"font-weight: bold\">})</span>                             \n",
       "</pre>\n"
      ],
      "text/plain": [
       "\u001b[32mDEBUG   \u001b[0m Inserted document: ThaiRecipes \u001b[1m(\u001b[0m\u001b[1m{\u001b[0m\u001b[32m'page'\u001b[0m: \u001b[1;36m11\u001b[0m, \u001b[32m'chunk'\u001b[0m: \u001b[1;36m1\u001b[0m, \u001b[32m'chunk_size'\u001b[0m: \u001b[1;36m1279\u001b[0m\u001b[1m}\u001b[0m\u001b[1m)\u001b[0m                             \n"
      ]
     },
     "metadata": {},
     "output_type": "display_data"
    },
    {
     "data": {
      "text/html": [
       "<pre style=\"white-space:pre;overflow-x:auto;line-height:normal;font-family:Menlo,'DejaVu Sans Mono',consolas,'Courier New',monospace\"><span style=\"color: #008000; text-decoration-color: #008000\">DEBUG   </span> Inserted document: ThaiRecipes <span style=\"font-weight: bold\">({</span><span style=\"color: #008000; text-decoration-color: #008000\">'page'</span>: <span style=\"color: #008080; text-decoration-color: #008080; font-weight: bold\">12</span>, <span style=\"color: #008000; text-decoration-color: #008000\">'chunk'</span>: <span style=\"color: #008080; text-decoration-color: #008080; font-weight: bold\">1</span>, <span style=\"color: #008000; text-decoration-color: #008000\">'chunk_size'</span>: <span style=\"color: #008080; text-decoration-color: #008080; font-weight: bold\">1294</span><span style=\"font-weight: bold\">})</span>                             \n",
       "</pre>\n"
      ],
      "text/plain": [
       "\u001b[32mDEBUG   \u001b[0m Inserted document: ThaiRecipes \u001b[1m(\u001b[0m\u001b[1m{\u001b[0m\u001b[32m'page'\u001b[0m: \u001b[1;36m12\u001b[0m, \u001b[32m'chunk'\u001b[0m: \u001b[1;36m1\u001b[0m, \u001b[32m'chunk_size'\u001b[0m: \u001b[1;36m1294\u001b[0m\u001b[1m}\u001b[0m\u001b[1m)\u001b[0m                             \n"
      ]
     },
     "metadata": {},
     "output_type": "display_data"
    },
    {
     "data": {
      "text/html": [
       "<pre style=\"white-space:pre;overflow-x:auto;line-height:normal;font-family:Menlo,'DejaVu Sans Mono',consolas,'Courier New',monospace\"><span style=\"color: #008000; text-decoration-color: #008000\">DEBUG   </span> Inserted document: ThaiRecipes <span style=\"font-weight: bold\">({</span><span style=\"color: #008000; text-decoration-color: #008000\">'page'</span>: <span style=\"color: #008080; text-decoration-color: #008080; font-weight: bold\">13</span>, <span style=\"color: #008000; text-decoration-color: #008000\">'chunk'</span>: <span style=\"color: #008080; text-decoration-color: #008080; font-weight: bold\">1</span>, <span style=\"color: #008000; text-decoration-color: #008000\">'chunk_size'</span>: <span style=\"color: #008080; text-decoration-color: #008080; font-weight: bold\">1116</span><span style=\"font-weight: bold\">})</span>                             \n",
       "</pre>\n"
      ],
      "text/plain": [
       "\u001b[32mDEBUG   \u001b[0m Inserted document: ThaiRecipes \u001b[1m(\u001b[0m\u001b[1m{\u001b[0m\u001b[32m'page'\u001b[0m: \u001b[1;36m13\u001b[0m, \u001b[32m'chunk'\u001b[0m: \u001b[1;36m1\u001b[0m, \u001b[32m'chunk_size'\u001b[0m: \u001b[1;36m1116\u001b[0m\u001b[1m}\u001b[0m\u001b[1m)\u001b[0m                             \n"
      ]
     },
     "metadata": {},
     "output_type": "display_data"
    },
    {
     "data": {
      "text/html": [
       "<pre style=\"white-space:pre;overflow-x:auto;line-height:normal;font-family:Menlo,'DejaVu Sans Mono',consolas,'Courier New',monospace\"><span style=\"color: #008000; text-decoration-color: #008000\">DEBUG   </span> Inserted document: ThaiRecipes <span style=\"font-weight: bold\">({</span><span style=\"color: #008000; text-decoration-color: #008000\">'page'</span>: <span style=\"color: #008080; text-decoration-color: #008080; font-weight: bold\">14</span>, <span style=\"color: #008000; text-decoration-color: #008000\">'chunk'</span>: <span style=\"color: #008080; text-decoration-color: #008080; font-weight: bold\">1</span>, <span style=\"color: #008000; text-decoration-color: #008000\">'chunk_size'</span>: <span style=\"color: #008080; text-decoration-color: #008080; font-weight: bold\">267</span><span style=\"font-weight: bold\">})</span>                              \n",
       "</pre>\n"
      ],
      "text/plain": [
       "\u001b[32mDEBUG   \u001b[0m Inserted document: ThaiRecipes \u001b[1m(\u001b[0m\u001b[1m{\u001b[0m\u001b[32m'page'\u001b[0m: \u001b[1;36m14\u001b[0m, \u001b[32m'chunk'\u001b[0m: \u001b[1;36m1\u001b[0m, \u001b[32m'chunk_size'\u001b[0m: \u001b[1;36m267\u001b[0m\u001b[1m}\u001b[0m\u001b[1m)\u001b[0m                              \n"
      ]
     },
     "metadata": {},
     "output_type": "display_data"
    },
    {
     "data": {
      "text/html": [
       "<pre style=\"white-space:pre;overflow-x:auto;line-height:normal;font-family:Menlo,'DejaVu Sans Mono',consolas,'Courier New',monospace\"><span style=\"color: #008000; text-decoration-color: #008000\">DEBUG   </span> Upsert <span style=\"color: #008080; text-decoration-color: #008080; font-weight: bold\">14</span> documents                                                                                       \n",
       "</pre>\n"
      ],
      "text/plain": [
       "\u001b[32mDEBUG   \u001b[0m Upsert \u001b[1;36m14\u001b[0m documents                                                                                       \n"
      ]
     },
     "metadata": {},
     "output_type": "display_data"
    },
    {
     "data": {
      "text/html": [
       "<pre style=\"white-space:pre;overflow-x:auto;line-height:normal;font-family:Menlo,'DejaVu Sans Mono',consolas,'Courier New',monospace\"><span style=\"color: #000080; text-decoration-color: #000080\">INFO    </span> Added <span style=\"color: #008080; text-decoration-color: #008080; font-weight: bold\">14</span> documents to knowledge base                                                                      \n",
       "</pre>\n"
      ],
      "text/plain": [
       "\u001b[34mINFO    \u001b[0m Added \u001b[1;36m14\u001b[0m documents to knowledge base                                                                      \n"
      ]
     },
     "metadata": {},
     "output_type": "display_data"
    }
   ],
   "source": [
    "# Load the knowledge base without recreating it if it already exists in Vector LanceDB\n",
    "knowledge_base.load(recreate=True)\n"
   ]
  },
  {
   "cell_type": "code",
   "execution_count": 28,
   "metadata": {},
   "outputs": [
    {
     "data": {
      "text/html": [
       "<pre style=\"white-space:pre;overflow-x:auto;line-height:normal;font-family:Menlo,'DejaVu Sans Mono',consolas,'Courier New',monospace\"><span style=\"color: #008000; text-decoration-color: #008000\">DEBUG   </span> Checking if table exists: new_recipes                                                                     \n",
       "</pre>\n"
      ],
      "text/plain": [
       "\u001b[32mDEBUG   \u001b[0m Checking if table exists: new_recipes                                                                     \n"
      ]
     },
     "metadata": {},
     "output_type": "display_data"
    }
   ],
   "source": [
    "# Set up SQL storage for the agent's data\n",
    "storage = SqlAgentStorage(table_name=\"new_recipes\", db_file=\"data.db\")\n",
    "storage.create()  # Create the storage if it doesn't exist\n"
   ]
  },
  {
   "cell_type": "code",
   "execution_count": 36,
   "metadata": {},
   "outputs": [
    {
     "data": {
      "text/html": [
       "<pre style=\"white-space:pre;overflow-x:auto;line-height:normal;font-family:Menlo,'DejaVu Sans Mono',consolas,'Courier New',monospace\"><span style=\"color: #008000; text-decoration-color: #008000\">DEBUG   </span> *********** Agent ID: <span style=\"color: #ffff00; text-decoration-color: #ffff00\">3c132e6c-568a-49c0-b61f-e7cb729e208d</span> ***********                                    \n",
       "</pre>\n"
      ],
      "text/plain": [
       "\u001b[32mDEBUG   \u001b[0m *********** Agent ID: \u001b[93m3c132e6c-568a-49c0-b61f-e7cb729e208d\u001b[0m ***********                                    \n"
      ]
     },
     "metadata": {},
     "output_type": "display_data"
    },
    {
     "data": {
      "text/html": [
       "<pre style=\"white-space:pre;overflow-x:auto;line-height:normal;font-family:Menlo,'DejaVu Sans Mono',consolas,'Courier New',monospace\"><span style=\"color: #008000; text-decoration-color: #008000\">DEBUG   </span> *********** Session ID: session_id ***********                                                            \n",
       "</pre>\n"
      ],
      "text/plain": [
       "\u001b[32mDEBUG   \u001b[0m *********** Session ID: session_id ***********                                                            \n"
      ]
     },
     "metadata": {},
     "output_type": "display_data"
    },
    {
     "data": {
      "text/html": [
       "<pre style=\"white-space:pre;overflow-x:auto;line-height:normal;font-family:Menlo,'DejaVu Sans Mono',consolas,'Courier New',monospace\"><span style=\"color: #008000; text-decoration-color: #008000\">DEBUG   </span> Debug logs enabled                                                                                        \n",
       "</pre>\n"
      ],
      "text/plain": [
       "\u001b[32mDEBUG   \u001b[0m Debug logs enabled                                                                                        \n"
      ]
     },
     "metadata": {},
     "output_type": "display_data"
    }
   ],
   "source": [
    "# Initialize the Agent with various configurations including the knowledge base and storage\n",
    "agent = Agent(\n",
    "    session_id=\"session_id\",  # use any unique identifier to identify the run\n",
    "    user_id=\"user\",  # user identifier to identify the user\n",
    "    model=model,\n",
    "    knowledge=knowledge_base,\n",
    "    storage=storage,\n",
    "    show_tool_calls=True,\n",
    "    debug_mode=True,  # Enable debug mode for additional information\n",
    ")\n"
   ]
  },
  {
   "cell_type": "code",
   "execution_count": 37,
   "metadata": {},
   "outputs": [
    {
     "data": {
      "text/html": [
       "<pre style=\"white-space:pre;overflow-x:auto;line-height:normal;font-family:Menlo,'DejaVu Sans Mono',consolas,'Courier New',monospace\"><span style=\"color: #008000; text-decoration-color: #008000\">DEBUG   </span> *********** Agent Run Start: <span style=\"color: #ffff00; text-decoration-color: #ffff00\">7837c35c-757c-441a-9008-47ed56932477</span> ***********                             \n",
       "</pre>\n"
      ],
      "text/plain": [
       "\u001b[32mDEBUG   \u001b[0m *********** Agent Run Start: \u001b[93m7837c35c-757c-441a-9008-47ed56932477\u001b[0m ***********                             \n"
      ]
     },
     "metadata": {},
     "output_type": "display_data"
    },
    {
     "data": {
      "text/html": [
       "<pre style=\"white-space:pre;overflow-x:auto;line-height:normal;font-family:Menlo,'DejaVu Sans Mono',consolas,'Courier New',monospace\"><span style=\"color: #008000; text-decoration-color: #008000\">DEBUG   </span> Function search_knowledge_base added to model.                                                            \n",
       "</pre>\n"
      ],
      "text/plain": [
       "\u001b[32mDEBUG   \u001b[0m Function search_knowledge_base added to model.                                                            \n"
      ]
     },
     "metadata": {},
     "output_type": "display_data"
    },
    {
     "data": {
      "text/html": [
       "<pre style=\"white-space:pre;overflow-x:auto;line-height:normal;font-family:Menlo,'DejaVu Sans Mono',consolas,'Courier New',monospace\"><span style=\"color: #008000; text-decoration-color: #008000\">DEBUG   </span> ---------- Groq Response Start ----------                                                                 \n",
       "</pre>\n"
      ],
      "text/plain": [
       "\u001b[32mDEBUG   \u001b[0m ---------- Groq Response Start ----------                                                                 \n"
      ]
     },
     "metadata": {},
     "output_type": "display_data"
    },
    {
     "data": {
      "text/html": [
       "<pre style=\"white-space:pre;overflow-x:auto;line-height:normal;font-family:Menlo,'DejaVu Sans Mono',consolas,'Courier New',monospace\"><span style=\"color: #008000; text-decoration-color: #008000\">DEBUG   </span> ============== system ==============                                                                      \n",
       "</pre>\n"
      ],
      "text/plain": [
       "\u001b[32mDEBUG   \u001b[0m ============== system ==============                                                                      \n"
      ]
     },
     "metadata": {},
     "output_type": "display_data"
    },
    {
     "data": {
      "text/html": [
       "<pre style=\"white-space:pre;overflow-x:auto;line-height:normal;font-family:Menlo,'DejaVu Sans Mono',consolas,'Courier New',monospace\"><span style=\"color: #008000; text-decoration-color: #008000\">DEBUG   </span> ## Instructions                                                                                           \n",
       "         Use markdown to format your answers.                                                                      \n",
       "</pre>\n"
      ],
      "text/plain": [
       "\u001b[32mDEBUG   \u001b[0m ## Instructions                                                                                           \n",
       "         Use markdown to format your answers.                                                                      \n"
      ]
     },
     "metadata": {},
     "output_type": "display_data"
    },
    {
     "data": {
      "text/html": [
       "<pre style=\"white-space:pre;overflow-x:auto;line-height:normal;font-family:Menlo,'DejaVu Sans Mono',consolas,'Courier New',monospace\"><span style=\"color: #008000; text-decoration-color: #008000\">DEBUG   </span> ============== user ==============                                                                        \n",
       "</pre>\n"
      ],
      "text/plain": [
       "\u001b[32mDEBUG   \u001b[0m ============== user ==============                                                                        \n"
      ]
     },
     "metadata": {},
     "output_type": "display_data"
    },
    {
     "data": {
      "text/html": [
       "<pre style=\"white-space:pre;overflow-x:auto;line-height:normal;font-family:Menlo,'DejaVu Sans Mono',consolas,'Courier New',monospace\"><span style=\"color: #008000; text-decoration-color: #008000\">DEBUG   </span> What is the first step of making Gluai Buat Chi from the knowledge base?                                  \n",
       "</pre>\n"
      ],
      "text/plain": [
       "\u001b[32mDEBUG   \u001b[0m What is the first step of making Gluai Buat Chi from the knowledge base?                                  \n"
      ]
     },
     "metadata": {},
     "output_type": "display_data"
    },
    {
     "data": {
      "text/html": [
       "<pre style=\"white-space:pre;overflow-x:auto;line-height:normal;font-family:Menlo,'DejaVu Sans Mono',consolas,'Courier New',monospace\">c:\\Project\\PhiData\\Financial AI analyst\\new_venv\\Lib\\site-packages\\rich\\live.py:231: UserWarning: install \n",
       "\"ipywidgets\" for Jupyter support\n",
       "  warnings.warn('install \"ipywidgets\" for Jupyter support')\n",
       "</pre>\n"
      ],
      "text/plain": [
       "c:\\Project\\PhiData\\Financial AI analyst\\new_venv\\Lib\\site-packages\\rich\\live.py:231: UserWarning: install \n",
       "\"ipywidgets\" for Jupyter support\n",
       "  warnings.warn('install \"ipywidgets\" for Jupyter support')\n"
      ]
     },
     "metadata": {},
     "output_type": "display_data"
    },
    {
     "data": {
      "text/html": [
       "<pre style=\"white-space:pre;overflow-x:auto;line-height:normal;font-family:Menlo,'DejaVu Sans Mono',consolas,'Courier New',monospace\"><span style=\"color: #008000; text-decoration-color: #008000\">DEBUG   </span> ============== assistant ==============                                                                   \n",
       "</pre>\n"
      ],
      "text/plain": [
       "\u001b[32mDEBUG   \u001b[0m ============== assistant ==============                                                                   \n"
      ]
     },
     "metadata": {},
     "output_type": "display_data"
    },
    {
     "data": {
      "text/html": [
       "<pre style=\"white-space:pre;overflow-x:auto;line-height:normal;font-family:Menlo,'DejaVu Sans Mono',consolas,'Courier New',monospace\"><span style=\"color: #008000; text-decoration-color: #008000\">DEBUG   </span> Tool Calls: <span style=\"font-weight: bold\">[</span>                                                                                             \n",
       "           <span style=\"font-weight: bold\">{</span>                                                                                                       \n",
       "             <span style=\"color: #008000; text-decoration-color: #008000\">\"id\"</span>: <span style=\"color: #008000; text-decoration-color: #008000\">\"call_ca6r\"</span>,                                                                                    \n",
       "             <span style=\"color: #008000; text-decoration-color: #008000\">\"function\"</span>: <span style=\"font-weight: bold\">{</span>                                                                                         \n",
       "               <span style=\"color: #008000; text-decoration-color: #008000\">\"arguments\"</span>: <span style=\"color: #008000; text-decoration-color: #008000\">\"{\\\"query\\\": \\\"first step of making Gluai Buat Chi\\\"}\"</span>,                                \n",
       "               <span style=\"color: #008000; text-decoration-color: #008000\">\"name\"</span>: <span style=\"color: #008000; text-decoration-color: #008000\">\"search_knowledge_base\"</span>                                                                     \n",
       "             <span style=\"font-weight: bold\">}</span>,                                                                                                    \n",
       "             <span style=\"color: #008000; text-decoration-color: #008000\">\"type\"</span>: <span style=\"color: #008000; text-decoration-color: #008000\">\"function\"</span>                                                                                    \n",
       "           <span style=\"font-weight: bold\">}</span>                                                                                                       \n",
       "         <span style=\"font-weight: bold\">]</span>                                                                                                         \n",
       "</pre>\n"
      ],
      "text/plain": [
       "\u001b[32mDEBUG   \u001b[0m Tool Calls: \u001b[1m[\u001b[0m                                                                                             \n",
       "           \u001b[1m{\u001b[0m                                                                                                       \n",
       "             \u001b[32m\"id\"\u001b[0m: \u001b[32m\"call_ca6r\"\u001b[0m,                                                                                    \n",
       "             \u001b[32m\"function\"\u001b[0m: \u001b[1m{\u001b[0m                                                                                         \n",
       "               \u001b[32m\"arguments\"\u001b[0m: \u001b[32m\"\u001b[0m\u001b[32m{\u001b[0m\u001b[32m\\\"query\\\": \\\"first step of making Gluai Buat Chi\\\"\u001b[0m\u001b[32m}\u001b[0m\u001b[32m\"\u001b[0m,                                \n",
       "               \u001b[32m\"name\"\u001b[0m: \u001b[32m\"search_knowledge_base\"\u001b[0m                                                                     \n",
       "             \u001b[1m}\u001b[0m,                                                                                                    \n",
       "             \u001b[32m\"type\"\u001b[0m: \u001b[32m\"function\"\u001b[0m                                                                                    \n",
       "           \u001b[1m}\u001b[0m                                                                                                       \n",
       "         \u001b[1m]\u001b[0m                                                                                                         \n"
      ]
     },
     "metadata": {},
     "output_type": "display_data"
    },
    {
     "data": {
      "text/html": [
       "<pre style=\"white-space:pre;overflow-x:auto;line-height:normal;font-family:Menlo,'DejaVu Sans Mono',consolas,'Courier New',monospace\"><span style=\"color: #008000; text-decoration-color: #008000\">DEBUG   </span> **************** METRICS START ****************                                                           \n",
       "</pre>\n"
      ],
      "text/plain": [
       "\u001b[32mDEBUG   \u001b[0m **************** METRICS START ****************                                                           \n"
      ]
     },
     "metadata": {},
     "output_type": "display_data"
    },
    {
     "data": {
      "text/html": [
       "<pre style=\"white-space:pre;overflow-x:auto;line-height:normal;font-family:Menlo,'DejaVu Sans Mono',consolas,'Courier New',monospace\"><span style=\"color: #008000; text-decoration-color: #008000\">DEBUG   </span> * Time to generate response:   <span style=\"color: #008080; text-decoration-color: #008080; font-weight: bold\">1.</span>0734s                                                                    \n",
       "</pre>\n"
      ],
      "text/plain": [
       "\u001b[32mDEBUG   \u001b[0m * Time to generate response:   \u001b[1;36m1.\u001b[0m0734s                                                                    \n"
      ]
     },
     "metadata": {},
     "output_type": "display_data"
    },
    {
     "data": {
      "text/html": [
       "<pre style=\"white-space:pre;overflow-x:auto;line-height:normal;font-family:Menlo,'DejaVu Sans Mono',consolas,'Courier New',monospace\"><span style=\"color: #008000; text-decoration-color: #008000\">DEBUG   </span> * Tokens per second:           <span style=\"color: #008080; text-decoration-color: #008080; font-weight: bold\">22.3593</span> tokens/s                                                           \n",
       "</pre>\n"
      ],
      "text/plain": [
       "\u001b[32mDEBUG   \u001b[0m * Tokens per second:           \u001b[1;36m22.3593\u001b[0m tokens/s                                                           \n"
      ]
     },
     "metadata": {},
     "output_type": "display_data"
    },
    {
     "data": {
      "text/html": [
       "<pre style=\"white-space:pre;overflow-x:auto;line-height:normal;font-family:Menlo,'DejaVu Sans Mono',consolas,'Courier New',monospace\"><span style=\"color: #008000; text-decoration-color: #008000\">DEBUG   </span> * Input tokens:                <span style=\"color: #008080; text-decoration-color: #008080; font-weight: bold\">629</span>                                                                        \n",
       "</pre>\n"
      ],
      "text/plain": [
       "\u001b[32mDEBUG   \u001b[0m * Input tokens:                \u001b[1;36m629\u001b[0m                                                                        \n"
      ]
     },
     "metadata": {},
     "output_type": "display_data"
    },
    {
     "data": {
      "text/html": [
       "<pre style=\"white-space:pre;overflow-x:auto;line-height:normal;font-family:Menlo,'DejaVu Sans Mono',consolas,'Courier New',monospace\"><span style=\"color: #008000; text-decoration-color: #008000\">DEBUG   </span> * Output tokens:               <span style=\"color: #008080; text-decoration-color: #008080; font-weight: bold\">24</span>                                                                         \n",
       "</pre>\n"
      ],
      "text/plain": [
       "\u001b[32mDEBUG   \u001b[0m * Output tokens:               \u001b[1;36m24\u001b[0m                                                                         \n"
      ]
     },
     "metadata": {},
     "output_type": "display_data"
    },
    {
     "data": {
      "text/html": [
       "<pre style=\"white-space:pre;overflow-x:auto;line-height:normal;font-family:Menlo,'DejaVu Sans Mono',consolas,'Courier New',monospace\"><span style=\"color: #008000; text-decoration-color: #008000\">DEBUG   </span> * Total tokens:                <span style=\"color: #008080; text-decoration-color: #008080; font-weight: bold\">653</span>                                                                        \n",
       "</pre>\n"
      ],
      "text/plain": [
       "\u001b[32mDEBUG   \u001b[0m * Total tokens:                \u001b[1;36m653\u001b[0m                                                                        \n"
      ]
     },
     "metadata": {},
     "output_type": "display_data"
    },
    {
     "data": {
      "text/html": [
       "<pre style=\"white-space:pre;overflow-x:auto;line-height:normal;font-family:Menlo,'DejaVu Sans Mono',consolas,'Courier New',monospace\"><span style=\"color: #008000; text-decoration-color: #008000\">DEBUG   </span> * Completion time:             <span style=\"color: #008080; text-decoration-color: #008080; font-weight: bold\">0.</span>1221s                                                                    \n",
       "</pre>\n"
      ],
      "text/plain": [
       "\u001b[32mDEBUG   \u001b[0m * Completion time:             \u001b[1;36m0.\u001b[0m1221s                                                                    \n"
      ]
     },
     "metadata": {},
     "output_type": "display_data"
    },
    {
     "data": {
      "text/html": [
       "<pre style=\"white-space:pre;overflow-x:auto;line-height:normal;font-family:Menlo,'DejaVu Sans Mono',consolas,'Courier New',monospace\"><span style=\"color: #008000; text-decoration-color: #008000\">DEBUG   </span> * Prompt time:                 <span style=\"color: #008080; text-decoration-color: #008080; font-weight: bold\">0.</span>1022s                                                                    \n",
       "</pre>\n"
      ],
      "text/plain": [
       "\u001b[32mDEBUG   \u001b[0m * Prompt time:                 \u001b[1;36m0.\u001b[0m1022s                                                                    \n"
      ]
     },
     "metadata": {},
     "output_type": "display_data"
    },
    {
     "data": {
      "text/html": [
       "<pre style=\"white-space:pre;overflow-x:auto;line-height:normal;font-family:Menlo,'DejaVu Sans Mono',consolas,'Courier New',monospace\"><span style=\"color: #008000; text-decoration-color: #008000\">DEBUG   </span> * Queue time:                  <span style=\"color: #008080; text-decoration-color: #008080; font-weight: bold\">-0.</span>2147s                                                                   \n",
       "</pre>\n"
      ],
      "text/plain": [
       "\u001b[32mDEBUG   \u001b[0m * Queue time:                  \u001b[1;36m-0.\u001b[0m2147s                                                                   \n"
      ]
     },
     "metadata": {},
     "output_type": "display_data"
    },
    {
     "data": {
      "text/html": [
       "<pre style=\"white-space:pre;overflow-x:auto;line-height:normal;font-family:Menlo,'DejaVu Sans Mono',consolas,'Courier New',monospace\"><span style=\"color: #008000; text-decoration-color: #008000\">DEBUG   </span> * Total time:                  <span style=\"color: #008080; text-decoration-color: #008080; font-weight: bold\">0.</span>2243s                                                                    \n",
       "</pre>\n"
      ],
      "text/plain": [
       "\u001b[32mDEBUG   \u001b[0m * Total time:                  \u001b[1;36m0.\u001b[0m2243s                                                                    \n"
      ]
     },
     "metadata": {},
     "output_type": "display_data"
    },
    {
     "data": {
      "text/html": [
       "<pre style=\"white-space:pre;overflow-x:auto;line-height:normal;font-family:Menlo,'DejaVu Sans Mono',consolas,'Courier New',monospace\"><span style=\"color: #008000; text-decoration-color: #008000\">DEBUG   </span> **************** METRICS END ******************                                                           \n",
       "</pre>\n"
      ],
      "text/plain": [
       "\u001b[32mDEBUG   \u001b[0m **************** METRICS END ******************                                                           \n"
      ]
     },
     "metadata": {},
     "output_type": "display_data"
    },
    {
     "data": {
      "text/html": [
       "<pre style=\"white-space:pre;overflow-x:auto;line-height:normal;font-family:Menlo,'DejaVu Sans Mono',consolas,'Courier New',monospace\"><span style=\"color: #008000; text-decoration-color: #008000\">DEBUG   </span> Getting function search_knowledge_base                                                                    \n",
       "</pre>\n"
      ],
      "text/plain": [
       "\u001b[32mDEBUG   \u001b[0m Getting function search_knowledge_base                                                                    \n"
      ]
     },
     "metadata": {},
     "output_type": "display_data"
    },
    {
     "data": {
      "text/html": [
       "<pre style=\"white-space:pre;overflow-x:auto;line-height:normal;font-family:Menlo,'DejaVu Sans Mono',consolas,'Courier New',monospace\"><span style=\"color: #008000; text-decoration-color: #008000\">DEBUG   </span> Running: <span style=\"color: #800080; text-decoration-color: #800080; font-weight: bold\">search_knowledge_base</span><span style=\"font-weight: bold\">(</span><span style=\"color: #808000; text-decoration-color: #808000\">query</span>=<span style=\"color: #800080; text-decoration-color: #800080\">first</span> step of making Gluai Buat Chi<span style=\"font-weight: bold\">)</span>                                 \n",
       "</pre>\n"
      ],
      "text/plain": [
       "\u001b[32mDEBUG   \u001b[0m Running: \u001b[1;35msearch_knowledge_base\u001b[0m\u001b[1m(\u001b[0m\u001b[33mquery\u001b[0m=\u001b[35mfirst\u001b[0m step of making Gluai Buat Chi\u001b[1m)\u001b[0m                                 \n"
      ]
     },
     "metadata": {},
     "output_type": "display_data"
    },
    {
     "data": {
      "text/html": [
       "<pre style=\"white-space:pre;overflow-x:auto;line-height:normal;font-family:Menlo,'DejaVu Sans Mono',consolas,'Courier New',monospace\"><span style=\"color: #008000; text-decoration-color: #008000\">DEBUG   </span> Getting <span style=\"color: #008080; text-decoration-color: #008080; font-weight: bold\">5</span> relevant documents for query: first step of making Gluai Buat Chi                               \n",
       "</pre>\n"
      ],
      "text/plain": [
       "\u001b[32mDEBUG   \u001b[0m Getting \u001b[1;36m5\u001b[0m relevant documents for query: first step of making Gluai Buat Chi                               \n"
      ]
     },
     "metadata": {},
     "output_type": "display_data"
    },
    {
     "data": {
      "text/html": [
       "<pre style=\"white-space:pre;overflow-x:auto;line-height:normal;font-family:Menlo,'DejaVu Sans Mono',consolas,'Courier New',monospace\"><span style=\"color: #008000; text-decoration-color: #008000\">DEBUG   </span> Time to get references: <span style=\"color: #008080; text-decoration-color: #008080; font-weight: bold\">0.</span>4685s                                                                           \n",
       "</pre>\n"
      ],
      "text/plain": [
       "\u001b[32mDEBUG   \u001b[0m Time to get references: \u001b[1;36m0.\u001b[0m4685s                                                                           \n"
      ]
     },
     "metadata": {},
     "output_type": "display_data"
    },
    {
     "data": {
      "text/html": [
       "<pre style=\"white-space:pre;overflow-x:auto;line-height:normal;font-family:Menlo,'DejaVu Sans Mono',consolas,'Courier New',monospace\"><span style=\"color: #008000; text-decoration-color: #008000\">DEBUG   </span> ---------- Groq Response Start ----------                                                                 \n",
       "</pre>\n"
      ],
      "text/plain": [
       "\u001b[32mDEBUG   \u001b[0m ---------- Groq Response Start ----------                                                                 \n"
      ]
     },
     "metadata": {},
     "output_type": "display_data"
    },
    {
     "data": {
      "text/html": [
       "<pre style=\"white-space:pre;overflow-x:auto;line-height:normal;font-family:Menlo,'DejaVu Sans Mono',consolas,'Courier New',monospace\"><span style=\"color: #008000; text-decoration-color: #008000\">DEBUG   </span> ============== system ==============                                                                      \n",
       "</pre>\n"
      ],
      "text/plain": [
       "\u001b[32mDEBUG   \u001b[0m ============== system ==============                                                                      \n"
      ]
     },
     "metadata": {},
     "output_type": "display_data"
    },
    {
     "data": {
      "text/html": [
       "<pre style=\"white-space:pre;overflow-x:auto;line-height:normal;font-family:Menlo,'DejaVu Sans Mono',consolas,'Courier New',monospace\"><span style=\"color: #008000; text-decoration-color: #008000\">DEBUG   </span> ## Instructions                                                                                           \n",
       "         Use markdown to format your answers.                                                                      \n",
       "</pre>\n"
      ],
      "text/plain": [
       "\u001b[32mDEBUG   \u001b[0m ## Instructions                                                                                           \n",
       "         Use markdown to format your answers.                                                                      \n"
      ]
     },
     "metadata": {},
     "output_type": "display_data"
    },
    {
     "data": {
      "text/html": [
       "<pre style=\"white-space:pre;overflow-x:auto;line-height:normal;font-family:Menlo,'DejaVu Sans Mono',consolas,'Courier New',monospace\"><span style=\"color: #008000; text-decoration-color: #008000\">DEBUG   </span> ============== user ==============                                                                        \n",
       "</pre>\n"
      ],
      "text/plain": [
       "\u001b[32mDEBUG   \u001b[0m ============== user ==============                                                                        \n"
      ]
     },
     "metadata": {},
     "output_type": "display_data"
    },
    {
     "data": {
      "text/html": [
       "<pre style=\"white-space:pre;overflow-x:auto;line-height:normal;font-family:Menlo,'DejaVu Sans Mono',consolas,'Courier New',monospace\"><span style=\"color: #008000; text-decoration-color: #008000\">DEBUG   </span> What is the first step of making Gluai Buat Chi from the knowledge base?                                  \n",
       "</pre>\n"
      ],
      "text/plain": [
       "\u001b[32mDEBUG   \u001b[0m What is the first step of making Gluai Buat Chi from the knowledge base?                                  \n"
      ]
     },
     "metadata": {},
     "output_type": "display_data"
    },
    {
     "data": {
      "text/html": [
       "<pre style=\"white-space:pre;overflow-x:auto;line-height:normal;font-family:Menlo,'DejaVu Sans Mono',consolas,'Courier New',monospace\"><span style=\"color: #008000; text-decoration-color: #008000\">DEBUG   </span> ============== assistant ==============                                                                   \n",
       "</pre>\n"
      ],
      "text/plain": [
       "\u001b[32mDEBUG   \u001b[0m ============== assistant ==============                                                                   \n"
      ]
     },
     "metadata": {},
     "output_type": "display_data"
    },
    {
     "data": {
      "text/html": [
       "<pre style=\"white-space:pre;overflow-x:auto;line-height:normal;font-family:Menlo,'DejaVu Sans Mono',consolas,'Courier New',monospace\"><span style=\"color: #008000; text-decoration-color: #008000\">DEBUG   </span> Tool Calls: <span style=\"font-weight: bold\">[</span>                                                                                             \n",
       "           <span style=\"font-weight: bold\">{</span>                                                                                                       \n",
       "             <span style=\"color: #008000; text-decoration-color: #008000\">\"id\"</span>: <span style=\"color: #008000; text-decoration-color: #008000\">\"call_ca6r\"</span>,                                                                                    \n",
       "             <span style=\"color: #008000; text-decoration-color: #008000\">\"function\"</span>: <span style=\"font-weight: bold\">{</span>                                                                                         \n",
       "               <span style=\"color: #008000; text-decoration-color: #008000\">\"arguments\"</span>: <span style=\"color: #008000; text-decoration-color: #008000\">\"{\\\"query\\\": \\\"first step of making Gluai Buat Chi\\\"}\"</span>,                                \n",
       "               <span style=\"color: #008000; text-decoration-color: #008000\">\"name\"</span>: <span style=\"color: #008000; text-decoration-color: #008000\">\"search_knowledge_base\"</span>                                                                     \n",
       "             <span style=\"font-weight: bold\">}</span>,                                                                                                    \n",
       "             <span style=\"color: #008000; text-decoration-color: #008000\">\"type\"</span>: <span style=\"color: #008000; text-decoration-color: #008000\">\"function\"</span>                                                                                    \n",
       "           <span style=\"font-weight: bold\">}</span>                                                                                                       \n",
       "         <span style=\"font-weight: bold\">]</span>                                                                                                         \n",
       "</pre>\n"
      ],
      "text/plain": [
       "\u001b[32mDEBUG   \u001b[0m Tool Calls: \u001b[1m[\u001b[0m                                                                                             \n",
       "           \u001b[1m{\u001b[0m                                                                                                       \n",
       "             \u001b[32m\"id\"\u001b[0m: \u001b[32m\"call_ca6r\"\u001b[0m,                                                                                    \n",
       "             \u001b[32m\"function\"\u001b[0m: \u001b[1m{\u001b[0m                                                                                         \n",
       "               \u001b[32m\"arguments\"\u001b[0m: \u001b[32m\"\u001b[0m\u001b[32m{\u001b[0m\u001b[32m\\\"query\\\": \\\"first step of making Gluai Buat Chi\\\"\u001b[0m\u001b[32m}\u001b[0m\u001b[32m\"\u001b[0m,                                \n",
       "               \u001b[32m\"name\"\u001b[0m: \u001b[32m\"search_knowledge_base\"\u001b[0m                                                                     \n",
       "             \u001b[1m}\u001b[0m,                                                                                                    \n",
       "             \u001b[32m\"type\"\u001b[0m: \u001b[32m\"function\"\u001b[0m                                                                                    \n",
       "           \u001b[1m}\u001b[0m                                                                                                       \n",
       "         \u001b[1m]\u001b[0m                                                                                                         \n"
      ]
     },
     "metadata": {},
     "output_type": "display_data"
    },
    {
     "data": {
      "text/html": [
       "<pre style=\"white-space:pre;overflow-x:auto;line-height:normal;font-family:Menlo,'DejaVu Sans Mono',consolas,'Courier New',monospace\"><span style=\"color: #008000; text-decoration-color: #008000\">DEBUG   </span> ============== tool ==============                                                                        \n",
       "</pre>\n"
      ],
      "text/plain": [
       "\u001b[32mDEBUG   \u001b[0m ============== tool ==============                                                                        \n"
      ]
     },
     "metadata": {},
     "output_type": "display_data"
    },
    {
     "data": {
      "text/html": [
       "<pre style=\"white-space:pre;overflow-x:auto;line-height:normal;font-family:Menlo,'DejaVu Sans Mono',consolas,'Courier New',monospace\"><span style=\"color: #008000; text-decoration-color: #008000\">DEBUG   </span> Tool call Id: call_ca6r                                                                                   \n",
       "</pre>\n"
      ],
      "text/plain": [
       "\u001b[32mDEBUG   \u001b[0m Tool call Id: call_ca6r                                                                                   \n"
      ]
     },
     "metadata": {},
     "output_type": "display_data"
    },
    {
     "data": {
      "text/html": [
       "<pre style=\"white-space:pre;overflow-x:auto;line-height:normal;font-family:Menlo,'DejaVu Sans Mono',consolas,'Courier New',monospace\"><span style=\"color: #008000; text-decoration-color: #008000\">DEBUG   </span> <span style=\"font-weight: bold\">[</span>                                                                                                         \n",
       "           <span style=\"font-weight: bold\">{</span>                                                                                                       \n",
       "             <span style=\"color: #008000; text-decoration-color: #008000\">\"content\"</span>: <span style=\"color: #008000; text-decoration-color: #008000\">\"INGREDIENTS (Four servings) 2 1/2 cups black glutinous rice 1 cup coconut cream 2 cups </span>   \n",
       "         <span style=\"color: #008000; text-decoration-color: #008000\">sugar 5 cups young coconut juice 3 cups young coconut flesh, cut into slices 1/2 tsp salt HEALTH BENEFITS </span>\n",
       "         <span style=\"color: #008000; text-decoration-color: #008000\">Vitamin B, C, E, K, Folate, Iron, Magnesium, Manganese, Selenium Preparation: 10 mins Cooking: 20 mins </span>   \n",
       "         <span style=\"color: #008000; text-decoration-color: #008000\">Total: 30 mins Directions: 1. Rinse the black glutinous rice in water twice. Pour into a pot and add </span>     \n",
       "         <span style=\"color: #008000; text-decoration-color: #008000\">coconut juice. Place over medium heat and boil until the rice is thoroughly cooked. 2.Add sugar and </span>      \n",
       "         <span style=\"color: #008000; text-decoration-color: #008000\">continue boiling until well dissolved. 3. Add coconut flesh. Stir well. Bring to a boil once again and </span>   \n",
       "         <span style=\"color: #008000; text-decoration-color: #008000\">turn off the heat. 4. Mix the coconut cream and salt together and place over low heat. Stir regularly to </span> \n",
       "         <span style=\"color: #008000; text-decoration-color: #008000\">prevent the coconut cream from separating. When the coconut cream is well heated and salt is thoroughly </span>  \n",
       "         <span style=\"color: #008000; text-decoration-color: #008000\">dissolved, remove from the heat. 5. Spoon the sweet glutinous rice into a serving bowl and top with some </span> \n",
       "         <span style=\"color: #008000; text-decoration-color: #008000\">salted coconut cream. Tips: \\u2022 The young coconut flesh can be substituted with longan. \\u2022 The </span>    \n",
       "         <span style=\"color: #008000; text-decoration-color: #008000\">black glutinous rice can be substituted with the white kind which is widely used in many Thai desserts </span>   \n",
       "         <span style=\"color: #008000; text-decoration-color: #008000\">including the popular \\u201cMango with Sticky Rice.\\u201d Khao Niew Dam Piek Maphrao Awn Black Glutinous </span> \n",
       "         <span style=\"color: #008000; text-decoration-color: #008000\">Rice Pudding with Young Coconut Flesh { } T H A I S E L E C T C O O K B O O K | 2 1 30 Min\"</span>,              \n",
       "             <span style=\"color: #008000; text-decoration-color: #008000\">\"name\"</span>: <span style=\"color: #008000; text-decoration-color: #008000\">\"ThaiRecipes\"</span>,                                                                                \n",
       "             <span style=\"color: #008000; text-decoration-color: #008000\">\"meta_data\"</span>: <span style=\"font-weight: bold\">{</span>                                                                                        \n",
       "               <span style=\"color: #008000; text-decoration-color: #008000\">\"page\"</span>: <span style=\"color: #008080; text-decoration-color: #008080; font-weight: bold\">12</span>,                                                                                         \n",
       "               <span style=\"color: #008000; text-decoration-color: #008000\">\"chunk\"</span>: <span style=\"color: #008080; text-decoration-color: #008080; font-weight: bold\">1</span>,                                                                                         \n",
       "               <span style=\"color: #008000; text-decoration-color: #008000\">\"chunk_size\"</span>: <span style=\"color: #008080; text-decoration-color: #008080; font-weight: bold\">1294</span>                                                                                  \n",
       "             <span style=\"font-weight: bold\">}</span>                                                                                                     \n",
       "           <span style=\"font-weight: bold\">}</span>,                                                                                                      \n",
       "           <span style=\"font-weight: bold\">{</span>                                                                                                       \n",
       "             <span style=\"color: #008000; text-decoration-color: #008000\">\"content\"</span>: <span style=\"color: #008000; text-decoration-color: #008000\">\"HEALTH BENEFITS Vitamin A, B6, C, E, K, Magnesium, Manganese, Phosphorus, Potassium </span>      \n",
       "         <span style=\"color: #008000; text-decoration-color: #008000\">Preparation: 10 mins Cooking: 25 mins Total: 35 mins Spicy Level: Gaeng Kiew Wan Goong Green Curry with </span>  \n",
       "         <span style=\"color: #008000; text-decoration-color: #008000\">Shrimps { } INGREDIENTS (Two servings) 8 peeled Thai shrimps 100 grams round eggplant or brinjal, chopped </span>\n",
       "         <span style=\"color: #008000; text-decoration-color: #008000\">into four pieces 100 grams coconut cream (the top layer of coconut milk) 500 grams coconut milk 40 grams </span> \n",
       "         <span style=\"color: #008000; text-decoration-color: #008000\">Kiew Wan curry paste 20 grams palm sugar 2 tbsp fish sauce 2 sliced red spur chilies 4 grams sweet basil </span> \n",
       "         <span style=\"color: #008000; text-decoration-color: #008000\">leaves 2 leaves kaffir lime, shredded Directions: 1. Simmer coconut cream in a pan until the oil </span>         \n",
       "         <span style=\"color: #008000; text-decoration-color: #008000\">separates. Add Kiew Wan curry paste and stir until it dissolves. 2. Add shrimps and fry until well cooked.</span>\n",
       "         <span style=\"color: #008000; text-decoration-color: #008000\">Pour into a pot then add coconut milk. Bring to full boil over medium heat. 3. Add round eggplant or </span>     \n",
       "         <span style=\"color: #008000; text-decoration-color: #008000\">brinjal and season with fish sauce and palm sugar. When the curry returns to a boil, the round eggplant or</span>\n",
       "         <span style=\"color: #008000; text-decoration-color: #008000\">brinjal will be cooked. 4. Add red spur chilies, shredded kaffir lime leaves and sweet basil leaves. Serve</span>\n",
       "         <span style=\"color: #008000; text-decoration-color: #008000\">in a bowl. Tips: \\u2022 If the curry paste is burned while frying, the curry will be darker than usual and</span>\n",
       "         <span style=\"color: #008000; text-decoration-color: #008000\">have a slightly bitter taste. Likewise, if undercooked, it will appear pale in color and mild in taste and</span>\n",
       "         <span style=\"color: #008000; text-decoration-color: #008000\">aroma. \\u2022 As an alternative, shrimp can be replaced with chicken, pork or beef. \\u2022 To keep the </span>   \n",
       "         <span style=\"color: #008000; text-decoration-color: #008000\">round eggplant or brinjal fresh and green, cut and soak in slightly salted water. Only use when the curry </span>\n",
       "         <span style=\"color: #008000; text-decoration-color: #008000\">is fully boiling. T H A I S E L E C T C O O K B O O K | 1 3 35 Min\"</span>,                                      \n",
       "             <span style=\"color: #008000; text-decoration-color: #008000\">\"name\"</span>: <span style=\"color: #008000; text-decoration-color: #008000\">\"ThaiRecipes\"</span>,                                                                                \n",
       "             <span style=\"color: #008000; text-decoration-color: #008000\">\"meta_data\"</span>: <span style=\"font-weight: bold\">{</span>                                                                                        \n",
       "               <span style=\"color: #008000; text-decoration-color: #008000\">\"page\"</span>: <span style=\"color: #008080; text-decoration-color: #008080; font-weight: bold\">8</span>,                                                                                          \n",
       "               <span style=\"color: #008000; text-decoration-color: #008000\">\"chunk\"</span>: <span style=\"color: #008080; text-decoration-color: #008080; font-weight: bold\">1</span>,                                                                                         \n",
       "               <span style=\"color: #008000; text-decoration-color: #008000\">\"chunk_size\"</span>: <span style=\"color: #008080; text-decoration-color: #008080; font-weight: bold\">1497</span>                                                                                  \n",
       "             <span style=\"font-weight: bold\">}</span>                                                                                                     \n",
       "           <span style=\"font-weight: bold\">}</span>,                                                                                                      \n",
       "           <span style=\"font-weight: bold\">{</span>                                                                                                       \n",
       "             <span style=\"color: #008000; text-decoration-color: #008000\">\"content\"</span>: <span style=\"color: #008000; text-decoration-color: #008000\">\"Directions: 1. Roughly pound the garlic with bird\\u2019s eye chilies in a mortar. Add long</span>\n",
       "         <span style=\"color: #008000; text-decoration-color: #008000\">beans, roasted peanuts and dried shrimps. Roughly pound the mixture again. Season with palm sugar, fish </span>  \n",
       "         <span style=\"color: #008000; text-decoration-color: #008000\">sauce and lime juice. Add shredded papaya and stir. Add cherry tomatoes. 2. Serve with fresh water morning</span>\n",
       "         <span style=\"color: #008000; text-decoration-color: #008000\">glory tops, cabbage and long beans. Tips: \\u2022 To keep the papaya fresh, clean the whole fruit and soak </span>\n",
       "         <span style=\"color: #008000; text-decoration-color: #008000\">it in water for 30 minutes before peeling. If there is any shredded papaya left over, keep it in the </span>     \n",
       "         <span style=\"color: #008000; text-decoration-color: #008000\">fridge. \\u2022 A wooden mortar is recommended to keep the shredded papaya in good shape. \\u2022 If you do </span>\n",
       "         <span style=\"color: #008000; text-decoration-color: #008000\">not have a set of mortar and pestle, mix the ingredients in a mixing bowl and serve. \\u2022 Use crushed </span>  \n",
       "         <span style=\"color: #008000; text-decoration-color: #008000\">almonds or cashew nuts instead of peanuts in case of peanut allergy. \\u2022 Somtum is usually served with </span>\n",
       "         <span style=\"color: #008000; text-decoration-color: #008000\">barbecued chicken and steamed white glutinous rice. HEALTH BENEFITS Vitamin A, B1, B2, C, E, K, Folate, </span>  \n",
       "         <span style=\"color: #008000; text-decoration-color: #008000\">Iron, Manganese, Potassium Preparation: 20 mins Cooking: 5 mins Total: 25 mins Spicy Level: INGREDIENTS </span>  \n",
       "         <span style=\"color: #008000; text-decoration-color: #008000\">(One serving) 200 grams shredded papaya 4 cloves garlic 2 bird\\u2019s eye chilies 40 grams halved cherry </span> \n",
       "         <span style=\"color: #008000; text-decoration-color: #008000\">tomatoes 30 grams long beans, chopped into one inch pieces 2 tbsp roasted peanuts 1 tbsp fish sauce 1 1/2 </span>\n",
       "         <span style=\"color: #008000; text-decoration-color: #008000\">tbsp lime juice 10 grams dried shrimps 20 grams palm sugar 2 stems water morning glory tops 1/4 cabbage, </span> \n",
       "         <span style=\"color: #008000; text-decoration-color: #008000\">chopped into large pieces { }Som Tum Papaya Salad T H A I S E L E C T C O O K B O O K | 0 9 25 Min\"</span>,      \n",
       "             <span style=\"color: #008000; text-decoration-color: #008000\">\"name\"</span>: <span style=\"color: #008000; text-decoration-color: #008000\">\"ThaiRecipes\"</span>,                                                                                \n",
       "             <span style=\"color: #008000; text-decoration-color: #008000\">\"meta_data\"</span>: <span style=\"font-weight: bold\">{</span>                                                                                        \n",
       "               <span style=\"color: #008000; text-decoration-color: #008000\">\"page\"</span>: <span style=\"color: #008080; text-decoration-color: #008080; font-weight: bold\">6</span>,                                                                                          \n",
       "               <span style=\"color: #008000; text-decoration-color: #008000\">\"chunk\"</span>: <span style=\"color: #008080; text-decoration-color: #008080; font-weight: bold\">1</span>,                                                                                         \n",
       "               <span style=\"color: #008000; text-decoration-color: #008000\">\"chunk_size\"</span>: <span style=\"color: #008080; text-decoration-color: #008080; font-weight: bold\">1412</span>                                                                                  \n",
       "             <span style=\"font-weight: bold\">}</span>                                                                                                     \n",
       "           <span style=\"font-weight: bold\">}</span>,                                                                                                      \n",
       "           <span style=\"font-weight: bold\">{</span>                                                                                                       \n",
       "             <span style=\"color: #008000; text-decoration-color: #008000\">\"content\"</span>: <span style=\"color: #008000; text-decoration-color: #008000\">\"INGREDIENTS (One serving) 150 grams chicken, cut into bite-size pieces 50 grams sliced </span>   \n",
       "         <span style=\"color: #008000; text-decoration-color: #008000\">young galangal 100 grams lightly crushed lemongrass, julienned 100 grams straw mushrooms 250 grams coconut</span>\n",
       "         <span style=\"color: #008000; text-decoration-color: #008000\">milk 100 grams chicken stock 3 tbsp lime juice 3 tbsp fish sauce 2 leaves kaffir lime, shredded 1-2 </span>      \n",
       "         <span style=\"color: #008000; text-decoration-color: #008000\">bird\\u2019s eye chilies, pounded 3 leaves coriander Preparation: 10 mins Cooking: 20 mins Total: 30 mins </span> \n",
       "         <span style=\"color: #008000; text-decoration-color: #008000\">Spicy Level: HEALTH BENEFITS Vitamin A, B1, B2, B6, C, E, K, Folate, Copper, Iron, Phosphorus Directions: </span>\n",
       "         <span style=\"color: #008000; text-decoration-color: #008000\">1. Bring the chicken stock and coconut milk to a slow boil. Add galangal, lemongrass, chicken and </span>        \n",
       "         <span style=\"color: #008000; text-decoration-color: #008000\">mushrooms. When the soup returns to a boil, season it with fish sauce. 2. Wait until the chicken is </span>      \n",
       "         <span style=\"color: #008000; text-decoration-color: #008000\">cooked, and then add the kaffir lime leaves and bird\\u2019s eye chilies. Remove the pot from heat and add </span>\n",
       "         <span style=\"color: #008000; text-decoration-color: #008000\">lime juice. 3. Garnish with coriander leaves. Tips: \\u2022 Keep the heat low throughout the cooking </span>      \n",
       "         <span style=\"color: #008000; text-decoration-color: #008000\">process. High heat will make the oil in the coconut milk separate and rise to the top. \\u2022 If </span>         \n",
       "         <span style=\"color: #008000; text-decoration-color: #008000\">you\\u2019re using mature galangal, reduce the amount. \\u2022 Lime juice becomes more aromatic when it is </span> \n",
       "         <span style=\"color: #008000; text-decoration-color: #008000\">added after the pot is removed from heat. \\u2022 Reduce amount of chilies for a milder taste. { }Tom Kha </span> \n",
       "         <span style=\"color: #008000; text-decoration-color: #008000\">Gai Chicken and Galangal in Coconut Milk Soup T H A I S E L E C T C O O K B O O K | 0 7 30 Min\"</span>,          \n",
       "             <span style=\"color: #008000; text-decoration-color: #008000\">\"name\"</span>: <span style=\"color: #008000; text-decoration-color: #008000\">\"ThaiRecipes\"</span>,                                                                                \n",
       "             <span style=\"color: #008000; text-decoration-color: #008000\">\"meta_data\"</span>: <span style=\"font-weight: bold\">{</span>                                                                                        \n",
       "               <span style=\"color: #008000; text-decoration-color: #008000\">\"page\"</span>: <span style=\"color: #008080; text-decoration-color: #008080; font-weight: bold\">5</span>,                                                                                          \n",
       "               <span style=\"color: #008000; text-decoration-color: #008000\">\"chunk\"</span>: <span style=\"color: #008080; text-decoration-color: #008080; font-weight: bold\">1</span>,                                                                                         \n",
       "               <span style=\"color: #008000; text-decoration-color: #008000\">\"chunk_size\"</span>: <span style=\"color: #008080; text-decoration-color: #008080; font-weight: bold\">1275</span>                                                                                  \n",
       "             <span style=\"font-weight: bold\">}</span>                                                                                                     \n",
       "           <span style=\"font-weight: bold\">}</span>,                                                                                                      \n",
       "           <span style=\"font-weight: bold\">{</span>                                                                                                       \n",
       "             <span style=\"color: #008000; text-decoration-color: #008000\">\"content\"</span>: <span style=\"color: #008000; text-decoration-color: #008000\">\"HEALTH BENEFITS Vitamin A, C, B6, K, Calcium, Iron, Phosphorous, Omega 3 Preparation: 15 </span> \n",
       "         <span style=\"color: #008000; text-decoration-color: #008000\">mins Cooking: 10 mins Total: 25 mins Spicy Level: Directions: 1. Soak the thin noodles for 5 minutes in </span>  \n",
       "         <span style=\"color: #008000; text-decoration-color: #008000\">water before cooking to soften. 2. Heat 1 tbsp of vegetable oil in a pan, fry the garlic and shallot, then</span>\n",
       "         <span style=\"color: #008000; text-decoration-color: #008000\">add the thin noodles and sprinkle with water until the noodles are soft. 3. Add fish sauce, palm sugar, </span>  \n",
       "         <span style=\"color: #008000; text-decoration-color: #008000\">red pepper flakes and tamarind juice. Stir quickly to prevent the noodles from sticking together. 4. Heat </span>\n",
       "         <span style=\"color: #008000; text-decoration-color: #008000\">another tbsp of oil and add the salted turnip, tofu, shrimps and dried shrimps. Stir and mix together with</span>\n",
       "         <span style=\"color: #008000; text-decoration-color: #008000\">the noodles and push to one side of the pan leaving space to heat the remaining 1 tbsp of oil. 5. Crack </span>  \n",
       "         <span style=\"color: #008000; text-decoration-color: #008000\">the egg in to the pan and spread thinly. Mix in the prepared noodles, add chives and bean sprouts. </span>       \n",
       "         <span style=\"color: #008000; text-decoration-color: #008000\">Transfer to a serving dish and sprinkle with roasted peanuts, squeeze in fresh lime juice, and garnish </span>   \n",
       "         <span style=\"color: #008000; text-decoration-color: #008000\">with the uncooked chives and bean sprouts. Tips: \\u2022 Gradually add the cooking oil. \\u2022 Constantly </span> \n",
       "         <span style=\"color: #008000; text-decoration-color: #008000\">check the noodles whilst cooking, if they are still dry and hard, sprinkle with water or add more oil. Pad</span>\n",
       "         <span style=\"color: #008000; text-decoration-color: #008000\">Thai Goong Sod Thai Fried Noodles with Shrimps { } T H A I S E L E C T C O O K B O O K | 0 5 INGREDIENTS </span> \n",
       "         <span style=\"color: #008000; text-decoration-color: #008000\">(One serving) 5 peeled Thai shrimps 1 tsp chopped garlic 1/2 tsp red pepper flakes 3 tbsp vegetable oil 2 </span>\n",
       "         <span style=\"color: #008000; text-decoration-color: #008000\">tbsp fish sauce 1 tbsp tamarind juice 1 tbsp finely chopped shallot 1 tbsp salted turnip, finely chopped 1</span>\n",
       "         <span style=\"color: #008000; text-decoration-color: #008000\">tbsp roasted peanuts 50 grams palm sugar 10 grams dried shrimps 50 grams firm tofu, thinly sliced 150 </span>    \n",
       "         <span style=\"color: #008000; text-decoration-color: #008000\">grams thin noodles 100 grams bean sprouts 20 grams chives, cut in one inch lengths 1 egg 1/4 lime 25 Min\"</span>,\n",
       "             <span style=\"color: #008000; text-decoration-color: #008000\">\"name\"</span>: <span style=\"color: #008000; text-decoration-color: #008000\">\"ThaiRecipes\"</span>,                                                                                \n",
       "             <span style=\"color: #008000; text-decoration-color: #008000\">\"meta_data\"</span>: <span style=\"font-weight: bold\">{</span>                                                                                        \n",
       "               <span style=\"color: #008000; text-decoration-color: #008000\">\"page\"</span>: <span style=\"color: #008080; text-decoration-color: #008080; font-weight: bold\">4</span>,                                                                                          \n",
       "               <span style=\"color: #008000; text-decoration-color: #008000\">\"chunk\"</span>: <span style=\"color: #008080; text-decoration-color: #008080; font-weight: bold\">1</span>,                                                                                         \n",
       "               <span style=\"color: #008000; text-decoration-color: #008000\">\"chunk_size\"</span>: <span style=\"color: #008080; text-decoration-color: #008080; font-weight: bold\">1649</span>                                                                                  \n",
       "             <span style=\"font-weight: bold\">}</span>                                                                                                     \n",
       "           <span style=\"font-weight: bold\">}</span>                                                                                                       \n",
       "         <span style=\"font-weight: bold\">]</span>                                                                                                         \n",
       "</pre>\n"
      ],
      "text/plain": [
       "\u001b[32mDEBUG   \u001b[0m \u001b[1m[\u001b[0m                                                                                                         \n",
       "           \u001b[1m{\u001b[0m                                                                                                       \n",
       "             \u001b[32m\"content\"\u001b[0m: \u001b[32m\"INGREDIENTS \u001b[0m\u001b[32m(\u001b[0m\u001b[32mFour servings\u001b[0m\u001b[32m)\u001b[0m\u001b[32m 2 1/2 cups black glutinous rice 1 cup coconut cream 2 cups \u001b[0m   \n",
       "         \u001b[32msugar 5 cups young coconut juice 3 cups young coconut flesh, cut into slices 1/2 tsp salt HEALTH BENEFITS \u001b[0m\n",
       "         \u001b[32mVitamin B, C, E, K, Folate, Iron, Magnesium, Manganese, Selenium Preparation: 10 mins Cooking: 20 mins \u001b[0m   \n",
       "         \u001b[32mTotal: 30 mins Directions: 1. Rinse the black glutinous rice in water twice. Pour into a pot and add \u001b[0m     \n",
       "         \u001b[32mcoconut juice. Place over medium heat and boil until the rice is thoroughly cooked. 2.Add sugar and \u001b[0m      \n",
       "         \u001b[32mcontinue boiling until well dissolved. 3. Add coconut flesh. Stir well. Bring to a boil once again and \u001b[0m   \n",
       "         \u001b[32mturn off the heat. 4. Mix the coconut cream and salt together and place over low heat. Stir regularly to \u001b[0m \n",
       "         \u001b[32mprevent the coconut cream from separating. When the coconut cream is well heated and salt is thoroughly \u001b[0m  \n",
       "         \u001b[32mdissolved, remove from the heat. 5. Spoon the sweet glutinous rice into a serving bowl and top with some \u001b[0m \n",
       "         \u001b[32msalted coconut cream. Tips: \\u2022 The young coconut flesh can be substituted with longan. \\u2022 The \u001b[0m    \n",
       "         \u001b[32mblack glutinous rice can be substituted with the white kind which is widely used in many Thai desserts \u001b[0m   \n",
       "         \u001b[32mincluding the popular \\u201cMango with Sticky Rice.\\u201d Khao Niew Dam Piek Maphrao Awn Black Glutinous \u001b[0m \n",
       "         \u001b[32mRice Pudding with Young Coconut Flesh \u001b[0m\u001b[32m{\u001b[0m\u001b[32m \u001b[0m\u001b[32m}\u001b[0m\u001b[32m T H A I S E L E C T C O O K B O O K | 2 1 30 Min\"\u001b[0m,              \n",
       "             \u001b[32m\"name\"\u001b[0m: \u001b[32m\"ThaiRecipes\"\u001b[0m,                                                                                \n",
       "             \u001b[32m\"meta_data\"\u001b[0m: \u001b[1m{\u001b[0m                                                                                        \n",
       "               \u001b[32m\"page\"\u001b[0m: \u001b[1;36m12\u001b[0m,                                                                                         \n",
       "               \u001b[32m\"chunk\"\u001b[0m: \u001b[1;36m1\u001b[0m,                                                                                         \n",
       "               \u001b[32m\"chunk_size\"\u001b[0m: \u001b[1;36m1294\u001b[0m                                                                                  \n",
       "             \u001b[1m}\u001b[0m                                                                                                     \n",
       "           \u001b[1m}\u001b[0m,                                                                                                      \n",
       "           \u001b[1m{\u001b[0m                                                                                                       \n",
       "             \u001b[32m\"content\"\u001b[0m: \u001b[32m\"HEALTH BENEFITS Vitamin A, B6, C, E, K, Magnesium, Manganese, Phosphorus, Potassium \u001b[0m      \n",
       "         \u001b[32mPreparation: 10 mins Cooking: 25 mins Total: 35 mins Spicy Level: Gaeng Kiew Wan Goong Green Curry with \u001b[0m  \n",
       "         \u001b[32mShrimps \u001b[0m\u001b[32m{\u001b[0m\u001b[32m \u001b[0m\u001b[32m}\u001b[0m\u001b[32m INGREDIENTS \u001b[0m\u001b[32m(\u001b[0m\u001b[32mTwo servings\u001b[0m\u001b[32m)\u001b[0m\u001b[32m 8 peeled Thai shrimps 100 grams round eggplant or brinjal, chopped \u001b[0m\n",
       "         \u001b[32minto four pieces 100 grams coconut cream \u001b[0m\u001b[32m(\u001b[0m\u001b[32mthe top layer of coconut milk\u001b[0m\u001b[32m)\u001b[0m\u001b[32m 500 grams coconut milk 40 grams \u001b[0m \n",
       "         \u001b[32mKiew Wan curry paste 20 grams palm sugar 2 tbsp fish sauce 2 sliced red spur chilies 4 grams sweet basil \u001b[0m \n",
       "         \u001b[32mleaves 2 leaves kaffir lime, shredded Directions: 1. Simmer coconut cream in a pan until the oil \u001b[0m         \n",
       "         \u001b[32mseparates. Add Kiew Wan curry paste and stir until it dissolves. 2. Add shrimps and fry until well cooked.\u001b[0m\n",
       "         \u001b[32mPour into a pot then add coconut milk. Bring to full boil over medium heat. 3. Add round eggplant or \u001b[0m     \n",
       "         \u001b[32mbrinjal and season with fish sauce and palm sugar. When the curry returns to a boil, the round eggplant or\u001b[0m\n",
       "         \u001b[32mbrinjal will be cooked. 4. Add red spur chilies, shredded kaffir lime leaves and sweet basil leaves. Serve\u001b[0m\n",
       "         \u001b[32min a bowl. Tips: \\u2022 If the curry paste is burned while frying, the curry will be darker than usual and\u001b[0m\n",
       "         \u001b[32mhave a slightly bitter taste. Likewise, if undercooked, it will appear pale in color and mild in taste and\u001b[0m\n",
       "         \u001b[32maroma. \\u2022 As an alternative, shrimp can be replaced with chicken, pork or beef. \\u2022 To keep the \u001b[0m   \n",
       "         \u001b[32mround eggplant or brinjal fresh and green, cut and soak in slightly salted water. Only use when the curry \u001b[0m\n",
       "         \u001b[32mis fully boiling. T H A I S E L E C T C O O K B O O K | 1 3 35 Min\"\u001b[0m,                                      \n",
       "             \u001b[32m\"name\"\u001b[0m: \u001b[32m\"ThaiRecipes\"\u001b[0m,                                                                                \n",
       "             \u001b[32m\"meta_data\"\u001b[0m: \u001b[1m{\u001b[0m                                                                                        \n",
       "               \u001b[32m\"page\"\u001b[0m: \u001b[1;36m8\u001b[0m,                                                                                          \n",
       "               \u001b[32m\"chunk\"\u001b[0m: \u001b[1;36m1\u001b[0m,                                                                                         \n",
       "               \u001b[32m\"chunk_size\"\u001b[0m: \u001b[1;36m1497\u001b[0m                                                                                  \n",
       "             \u001b[1m}\u001b[0m                                                                                                     \n",
       "           \u001b[1m}\u001b[0m,                                                                                                      \n",
       "           \u001b[1m{\u001b[0m                                                                                                       \n",
       "             \u001b[32m\"content\"\u001b[0m: \u001b[32m\"Directions: 1. Roughly pound the garlic with bird\\u2019s eye chilies in a mortar. Add long\u001b[0m\n",
       "         \u001b[32mbeans, roasted peanuts and dried shrimps. Roughly pound the mixture again. Season with palm sugar, fish \u001b[0m  \n",
       "         \u001b[32msauce and lime juice. Add shredded papaya and stir. Add cherry tomatoes. 2. Serve with fresh water morning\u001b[0m\n",
       "         \u001b[32mglory tops, cabbage and long beans. Tips: \\u2022 To keep the papaya fresh, clean the whole fruit and soak \u001b[0m\n",
       "         \u001b[32mit in water for 30 minutes before peeling. If there is any shredded papaya left over, keep it in the \u001b[0m     \n",
       "         \u001b[32mfridge. \\u2022 A wooden mortar is recommended to keep the shredded papaya in good shape. \\u2022 If you do \u001b[0m\n",
       "         \u001b[32mnot have a set of mortar and pestle, mix the ingredients in a mixing bowl and serve. \\u2022 Use crushed \u001b[0m  \n",
       "         \u001b[32malmonds or cashew nuts instead of peanuts in case of peanut allergy. \\u2022 Somtum is usually served with \u001b[0m\n",
       "         \u001b[32mbarbecued chicken and steamed white glutinous rice. HEALTH BENEFITS Vitamin A, B1, B2, C, E, K, Folate, \u001b[0m  \n",
       "         \u001b[32mIron, Manganese, Potassium Preparation: 20 mins Cooking: 5 mins Total: 25 mins Spicy Level: INGREDIENTS \u001b[0m  \n",
       "         \u001b[32m(\u001b[0m\u001b[32mOne serving\u001b[0m\u001b[32m)\u001b[0m\u001b[32m 200 grams shredded papaya 4 cloves garlic 2 bird\\u2019s eye chilies 40 grams halved cherry \u001b[0m \n",
       "         \u001b[32mtomatoes 30 grams long beans, chopped into one inch pieces 2 tbsp roasted peanuts 1 tbsp fish sauce 1 1/2 \u001b[0m\n",
       "         \u001b[32mtbsp lime juice 10 grams dried shrimps 20 grams palm sugar 2 stems water morning glory tops 1/4 cabbage, \u001b[0m \n",
       "         \u001b[32mchopped into large pieces \u001b[0m\u001b[32m{\u001b[0m\u001b[32m \u001b[0m\u001b[32m}\u001b[0m\u001b[32mSom Tum Papaya Salad T H A I S E L E C T C O O K B O O K | 0 9 25 Min\"\u001b[0m,      \n",
       "             \u001b[32m\"name\"\u001b[0m: \u001b[32m\"ThaiRecipes\"\u001b[0m,                                                                                \n",
       "             \u001b[32m\"meta_data\"\u001b[0m: \u001b[1m{\u001b[0m                                                                                        \n",
       "               \u001b[32m\"page\"\u001b[0m: \u001b[1;36m6\u001b[0m,                                                                                          \n",
       "               \u001b[32m\"chunk\"\u001b[0m: \u001b[1;36m1\u001b[0m,                                                                                         \n",
       "               \u001b[32m\"chunk_size\"\u001b[0m: \u001b[1;36m1412\u001b[0m                                                                                  \n",
       "             \u001b[1m}\u001b[0m                                                                                                     \n",
       "           \u001b[1m}\u001b[0m,                                                                                                      \n",
       "           \u001b[1m{\u001b[0m                                                                                                       \n",
       "             \u001b[32m\"content\"\u001b[0m: \u001b[32m\"INGREDIENTS \u001b[0m\u001b[32m(\u001b[0m\u001b[32mOne serving\u001b[0m\u001b[32m)\u001b[0m\u001b[32m 150 grams chicken, cut into bite-size pieces 50 grams sliced \u001b[0m   \n",
       "         \u001b[32myoung galangal 100 grams lightly crushed lemongrass, julienned 100 grams straw mushrooms 250 grams coconut\u001b[0m\n",
       "         \u001b[32mmilk 100 grams chicken stock 3 tbsp lime juice 3 tbsp fish sauce 2 leaves kaffir lime, shredded 1-2 \u001b[0m      \n",
       "         \u001b[32mbird\\u2019s eye chilies, pounded 3 leaves coriander Preparation: 10 mins Cooking: 20 mins Total: 30 mins \u001b[0m \n",
       "         \u001b[32mSpicy Level: HEALTH BENEFITS Vitamin A, B1, B2, B6, C, E, K, Folate, Copper, Iron, Phosphorus Directions: \u001b[0m\n",
       "         \u001b[32m1. Bring the chicken stock and coconut milk to a slow boil. Add galangal, lemongrass, chicken and \u001b[0m        \n",
       "         \u001b[32mmushrooms. When the soup returns to a boil, season it with fish sauce. 2. Wait until the chicken is \u001b[0m      \n",
       "         \u001b[32mcooked, and then add the kaffir lime leaves and bird\\u2019s eye chilies. Remove the pot from heat and add \u001b[0m\n",
       "         \u001b[32mlime juice. 3. Garnish with coriander leaves. Tips: \\u2022 Keep the heat low throughout the cooking \u001b[0m      \n",
       "         \u001b[32mprocess. High heat will make the oil in the coconut milk separate and rise to the top. \\u2022 If \u001b[0m         \n",
       "         \u001b[32myou\\u2019re using mature galangal, reduce the amount. \\u2022 Lime juice becomes more aromatic when it is \u001b[0m \n",
       "         \u001b[32madded after the pot is removed from heat. \\u2022 Reduce amount of chilies for a milder taste. \u001b[0m\u001b[32m{\u001b[0m\u001b[32m \u001b[0m\u001b[32m}\u001b[0m\u001b[32mTom Kha \u001b[0m \n",
       "         \u001b[32mGai Chicken and Galangal in Coconut Milk Soup T H A I S E L E C T C O O K B O O K | 0 7 30 Min\"\u001b[0m,          \n",
       "             \u001b[32m\"name\"\u001b[0m: \u001b[32m\"ThaiRecipes\"\u001b[0m,                                                                                \n",
       "             \u001b[32m\"meta_data\"\u001b[0m: \u001b[1m{\u001b[0m                                                                                        \n",
       "               \u001b[32m\"page\"\u001b[0m: \u001b[1;36m5\u001b[0m,                                                                                          \n",
       "               \u001b[32m\"chunk\"\u001b[0m: \u001b[1;36m1\u001b[0m,                                                                                         \n",
       "               \u001b[32m\"chunk_size\"\u001b[0m: \u001b[1;36m1275\u001b[0m                                                                                  \n",
       "             \u001b[1m}\u001b[0m                                                                                                     \n",
       "           \u001b[1m}\u001b[0m,                                                                                                      \n",
       "           \u001b[1m{\u001b[0m                                                                                                       \n",
       "             \u001b[32m\"content\"\u001b[0m: \u001b[32m\"HEALTH BENEFITS Vitamin A, C, B6, K, Calcium, Iron, Phosphorous, Omega 3 Preparation: 15 \u001b[0m \n",
       "         \u001b[32mmins Cooking: 10 mins Total: 25 mins Spicy Level: Directions: 1. Soak the thin noodles for 5 minutes in \u001b[0m  \n",
       "         \u001b[32mwater before cooking to soften. 2. Heat 1 tbsp of vegetable oil in a pan, fry the garlic and shallot, then\u001b[0m\n",
       "         \u001b[32madd the thin noodles and sprinkle with water until the noodles are soft. 3. Add fish sauce, palm sugar, \u001b[0m  \n",
       "         \u001b[32mred pepper flakes and tamarind juice. Stir quickly to prevent the noodles from sticking together. 4. Heat \u001b[0m\n",
       "         \u001b[32manother tbsp of oil and add the salted turnip, tofu, shrimps and dried shrimps. Stir and mix together with\u001b[0m\n",
       "         \u001b[32mthe noodles and push to one side of the pan leaving space to heat the remaining 1 tbsp of oil. 5. Crack \u001b[0m  \n",
       "         \u001b[32mthe egg in to the pan and spread thinly. Mix in the prepared noodles, add chives and bean sprouts. \u001b[0m       \n",
       "         \u001b[32mTransfer to a serving dish and sprinkle with roasted peanuts, squeeze in fresh lime juice, and garnish \u001b[0m   \n",
       "         \u001b[32mwith the uncooked chives and bean sprouts. Tips: \\u2022 Gradually add the cooking oil. \\u2022 Constantly \u001b[0m \n",
       "         \u001b[32mcheck the noodles whilst cooking, if they are still dry and hard, sprinkle with water or add more oil. Pad\u001b[0m\n",
       "         \u001b[32mThai Goong Sod Thai Fried Noodles with Shrimps \u001b[0m\u001b[32m{\u001b[0m\u001b[32m \u001b[0m\u001b[32m}\u001b[0m\u001b[32m T H A I S E L E C T C O O K B O O K | 0 5 INGREDIENTS \u001b[0m \n",
       "         \u001b[32m(\u001b[0m\u001b[32mOne serving\u001b[0m\u001b[32m)\u001b[0m\u001b[32m 5 peeled Thai shrimps 1 tsp chopped garlic 1/2 tsp red pepper flakes 3 tbsp vegetable oil 2 \u001b[0m\n",
       "         \u001b[32mtbsp fish sauce 1 tbsp tamarind juice 1 tbsp finely chopped shallot 1 tbsp salted turnip, finely chopped 1\u001b[0m\n",
       "         \u001b[32mtbsp roasted peanuts 50 grams palm sugar 10 grams dried shrimps 50 grams firm tofu, thinly sliced 150 \u001b[0m    \n",
       "         \u001b[32mgrams thin noodles 100 grams bean sprouts 20 grams chives, cut in one inch lengths 1 egg 1/4 lime 25 Min\"\u001b[0m,\n",
       "             \u001b[32m\"name\"\u001b[0m: \u001b[32m\"ThaiRecipes\"\u001b[0m,                                                                                \n",
       "             \u001b[32m\"meta_data\"\u001b[0m: \u001b[1m{\u001b[0m                                                                                        \n",
       "               \u001b[32m\"page\"\u001b[0m: \u001b[1;36m4\u001b[0m,                                                                                          \n",
       "               \u001b[32m\"chunk\"\u001b[0m: \u001b[1;36m1\u001b[0m,                                                                                         \n",
       "               \u001b[32m\"chunk_size\"\u001b[0m: \u001b[1;36m1649\u001b[0m                                                                                  \n",
       "             \u001b[1m}\u001b[0m                                                                                                     \n",
       "           \u001b[1m}\u001b[0m                                                                                                       \n",
       "         \u001b[1m]\u001b[0m                                                                                                         \n"
      ]
     },
     "metadata": {},
     "output_type": "display_data"
    },
    {
     "data": {
      "text/html": [
       "<pre style=\"white-space:pre;overflow-x:auto;line-height:normal;font-family:Menlo,'DejaVu Sans Mono',consolas,'Courier New',monospace\"><span style=\"color: #008000; text-decoration-color: #008000\">DEBUG   </span> ============== assistant ==============                                                                   \n",
       "</pre>\n"
      ],
      "text/plain": [
       "\u001b[32mDEBUG   \u001b[0m ============== assistant ==============                                                                   \n"
      ]
     },
     "metadata": {},
     "output_type": "display_data"
    },
    {
     "data": {
      "text/html": [
       "<pre style=\"white-space:pre;overflow-x:auto;line-height:normal;font-family:Menlo,'DejaVu Sans Mono',consolas,'Courier New',monospace\"><span style=\"color: #008000; text-decoration-color: #008000\">DEBUG   </span> ## Step <span style=\"color: #008080; text-decoration-color: #008080; font-weight: bold\">1</span>: Analyze the knowledge base results to identify the first step of making Gluai Buat Chi.        \n",
       "         The search results from the knowledge base provide various recipes, but none of them directly mention     \n",
       "         <span style=\"color: #008000; text-decoration-color: #008000\">\"Gluai Buat Chi.\"</span> However, one of the results provides a recipe for <span style=\"color: #008000; text-decoration-color: #008000\">\"Khao Niew Dam Piek Maphrao Awn Black </span>\n",
       "         <span style=\"color: #008000; text-decoration-color: #008000\">Glutinous Rice Pudding with Young Coconut Flesh,\"</span> which seems to be related to the query.                 \n",
       "                                                                                                                   \n",
       "                                                                                                                   \n",
       "         ## Step <span style=\"color: #008080; text-decoration-color: #008080; font-weight: bold\">2</span>: Extract the relevant information from the recipe.                                              \n",
       "         The recipe for <span style=\"color: #008000; text-decoration-color: #008000\">\"Khao Niew Dam Piek Maphrao Awn Black Glutinous Rice Pudding with Young Coconut Flesh\"</span>     \n",
       "         includes the following steps:                                                                             \n",
       "         <span style=\"color: #008080; text-decoration-color: #008080; font-weight: bold\">1</span>. Rinse the black glutinous rice in water twice. Pour into a pot and add coconut juice. Place over medium\n",
       "         heat and boil until the rice is thoroughly cooked.                                                        \n",
       "         <span style=\"color: #008080; text-decoration-color: #008080; font-weight: bold\">2</span>. Add sugar and continue boiling until well dissolved.                                                   \n",
       "         <span style=\"color: #008080; text-decoration-color: #008080; font-weight: bold\">3</span>. Add coconut flesh. Stir well. Bring to a boil once again and turn off the heat.                        \n",
       "         <span style=\"color: #008080; text-decoration-color: #008080; font-weight: bold\">4</span>. Mix the coconut cream and salt together and place over low heat. Stir regularly to prevent the coconut \n",
       "         cream from separating. When the coconut cream is well heated and salt is thoroughly dissolved, remove from\n",
       "         the heat.                                                                                                 \n",
       "         <span style=\"color: #008080; text-decoration-color: #008080; font-weight: bold\">5</span>. Spoon the sweet glutinous rice into a serving bowl and top with some salted coconut cream.             \n",
       "                                                                                                                   \n",
       "                                                                                                                   \n",
       "         ## Step <span style=\"color: #008080; text-decoration-color: #008080; font-weight: bold\">3</span>: Identify the first step of making Gluai Buat Chi based on the extracted information.           \n",
       "         The first step of making the related recipe is to rinse the black glutinous rice in water twice, pour it  \n",
       "         into a pot, add coconut juice, and boil until the rice is thoroughly cooked.                              \n",
       "                                                                                                                   \n",
       "                                                                                                                   \n",
       "         The final answer is: $\\boxed<span style=\"font-weight: bold\">{</span>Rinse the black glutinous rice in water twice. Pour into a pot and add       \n",
       "         coconut juice. Place over medium heat and boil until the rice is thoroughly cooked.<span style=\"font-weight: bold\">}</span>$                     \n",
       "</pre>\n"
      ],
      "text/plain": [
       "\u001b[32mDEBUG   \u001b[0m ## Step \u001b[1;36m1\u001b[0m: Analyze the knowledge base results to identify the first step of making Gluai Buat Chi.        \n",
       "         The search results from the knowledge base provide various recipes, but none of them directly mention     \n",
       "         \u001b[32m\"Gluai Buat Chi.\"\u001b[0m However, one of the results provides a recipe for \u001b[32m\"Khao Niew Dam Piek Maphrao Awn Black \u001b[0m\n",
       "         \u001b[32mGlutinous Rice Pudding with Young Coconut Flesh,\"\u001b[0m which seems to be related to the query.                 \n",
       "                                                                                                                   \n",
       "                                                                                                                   \n",
       "         ## Step \u001b[1;36m2\u001b[0m: Extract the relevant information from the recipe.                                              \n",
       "         The recipe for \u001b[32m\"Khao Niew Dam Piek Maphrao Awn Black Glutinous Rice Pudding with Young Coconut Flesh\"\u001b[0m     \n",
       "         includes the following steps:                                                                             \n",
       "         \u001b[1;36m1\u001b[0m. Rinse the black glutinous rice in water twice. Pour into a pot and add coconut juice. Place over medium\n",
       "         heat and boil until the rice is thoroughly cooked.                                                        \n",
       "         \u001b[1;36m2\u001b[0m. Add sugar and continue boiling until well dissolved.                                                   \n",
       "         \u001b[1;36m3\u001b[0m. Add coconut flesh. Stir well. Bring to a boil once again and turn off the heat.                        \n",
       "         \u001b[1;36m4\u001b[0m. Mix the coconut cream and salt together and place over low heat. Stir regularly to prevent the coconut \n",
       "         cream from separating. When the coconut cream is well heated and salt is thoroughly dissolved, remove from\n",
       "         the heat.                                                                                                 \n",
       "         \u001b[1;36m5\u001b[0m. Spoon the sweet glutinous rice into a serving bowl and top with some salted coconut cream.             \n",
       "                                                                                                                   \n",
       "                                                                                                                   \n",
       "         ## Step \u001b[1;36m3\u001b[0m: Identify the first step of making Gluai Buat Chi based on the extracted information.           \n",
       "         The first step of making the related recipe is to rinse the black glutinous rice in water twice, pour it  \n",
       "         into a pot, add coconut juice, and boil until the rice is thoroughly cooked.                              \n",
       "                                                                                                                   \n",
       "                                                                                                                   \n",
       "         The final answer is: $\\boxed\u001b[1m{\u001b[0mRinse the black glutinous rice in water twice. Pour into a pot and add       \n",
       "         coconut juice. Place over medium heat and boil until the rice is thoroughly cooked.\u001b[1m}\u001b[0m$                     \n"
      ]
     },
     "metadata": {},
     "output_type": "display_data"
    },
    {
     "data": {
      "text/html": [
       "<pre style=\"white-space:pre;overflow-x:auto;line-height:normal;font-family:Menlo,'DejaVu Sans Mono',consolas,'Courier New',monospace\"><span style=\"color: #008000; text-decoration-color: #008000\">DEBUG   </span> **************** METRICS START ****************                                                           \n",
       "</pre>\n"
      ],
      "text/plain": [
       "\u001b[32mDEBUG   \u001b[0m **************** METRICS START ****************                                                           \n"
      ]
     },
     "metadata": {},
     "output_type": "display_data"
    },
    {
     "data": {
      "text/html": [
       "<pre style=\"white-space:pre;overflow-x:auto;line-height:normal;font-family:Menlo,'DejaVu Sans Mono',consolas,'Courier New',monospace\"><span style=\"color: #008000; text-decoration-color: #008000\">DEBUG   </span> * Time to generate response:   <span style=\"color: #008080; text-decoration-color: #008080; font-weight: bold\">4.</span>1042s                                                                    \n",
       "</pre>\n"
      ],
      "text/plain": [
       "\u001b[32mDEBUG   \u001b[0m * Time to generate response:   \u001b[1;36m4.\u001b[0m1042s                                                                    \n"
      ]
     },
     "metadata": {},
     "output_type": "display_data"
    },
    {
     "data": {
      "text/html": [
       "<pre style=\"white-space:pre;overflow-x:auto;line-height:normal;font-family:Menlo,'DejaVu Sans Mono',consolas,'Courier New',monospace\"><span style=\"color: #008000; text-decoration-color: #008000\">DEBUG   </span> * Tokens per second:           <span style=\"color: #008080; text-decoration-color: #008080; font-weight: bold\">92.3434</span> tokens/s                                                           \n",
       "</pre>\n"
      ],
      "text/plain": [
       "\u001b[32mDEBUG   \u001b[0m * Tokens per second:           \u001b[1;36m92.3434\u001b[0m tokens/s                                                           \n"
      ]
     },
     "metadata": {},
     "output_type": "display_data"
    },
    {
     "data": {
      "text/html": [
       "<pre style=\"white-space:pre;overflow-x:auto;line-height:normal;font-family:Menlo,'DejaVu Sans Mono',consolas,'Courier New',monospace\"><span style=\"color: #008000; text-decoration-color: #008000\">DEBUG   </span> * Input tokens:                <span style=\"color: #008080; text-decoration-color: #008080; font-weight: bold\">2541</span>                                                                       \n",
       "</pre>\n"
      ],
      "text/plain": [
       "\u001b[32mDEBUG   \u001b[0m * Input tokens:                \u001b[1;36m2541\u001b[0m                                                                       \n"
      ]
     },
     "metadata": {},
     "output_type": "display_data"
    },
    {
     "data": {
      "text/html": [
       "<pre style=\"white-space:pre;overflow-x:auto;line-height:normal;font-family:Menlo,'DejaVu Sans Mono',consolas,'Courier New',monospace\"><span style=\"color: #008000; text-decoration-color: #008000\">DEBUG   </span> * Output tokens:               <span style=\"color: #008080; text-decoration-color: #008080; font-weight: bold\">379</span>                                                                        \n",
       "</pre>\n"
      ],
      "text/plain": [
       "\u001b[32mDEBUG   \u001b[0m * Output tokens:               \u001b[1;36m379\u001b[0m                                                                        \n"
      ]
     },
     "metadata": {},
     "output_type": "display_data"
    },
    {
     "data": {
      "text/html": [
       "<pre style=\"white-space:pre;overflow-x:auto;line-height:normal;font-family:Menlo,'DejaVu Sans Mono',consolas,'Courier New',monospace\"><span style=\"color: #008000; text-decoration-color: #008000\">DEBUG   </span> * Total tokens:                <span style=\"color: #008080; text-decoration-color: #008080; font-weight: bold\">2920</span>                                                                       \n",
       "</pre>\n"
      ],
      "text/plain": [
       "\u001b[32mDEBUG   \u001b[0m * Total tokens:                \u001b[1;36m2920\u001b[0m                                                                       \n"
      ]
     },
     "metadata": {},
     "output_type": "display_data"
    },
    {
     "data": {
      "text/html": [
       "<pre style=\"white-space:pre;overflow-x:auto;line-height:normal;font-family:Menlo,'DejaVu Sans Mono',consolas,'Courier New',monospace\"><span style=\"color: #008000; text-decoration-color: #008000\">DEBUG   </span> * Completion time:             <span style=\"color: #008080; text-decoration-color: #008080; font-weight: bold\">1.</span>8696s                                                                    \n",
       "</pre>\n"
      ],
      "text/plain": [
       "\u001b[32mDEBUG   \u001b[0m * Completion time:             \u001b[1;36m1.\u001b[0m8696s                                                                    \n"
      ]
     },
     "metadata": {},
     "output_type": "display_data"
    },
    {
     "data": {
      "text/html": [
       "<pre style=\"white-space:pre;overflow-x:auto;line-height:normal;font-family:Menlo,'DejaVu Sans Mono',consolas,'Courier New',monospace\"><span style=\"color: #008000; text-decoration-color: #008000\">DEBUG   </span> * Prompt time:                 <span style=\"color: #008080; text-decoration-color: #008080; font-weight: bold\">0.</span>5158s                                                                    \n",
       "</pre>\n"
      ],
      "text/plain": [
       "\u001b[32mDEBUG   \u001b[0m * Prompt time:                 \u001b[1;36m0.\u001b[0m5158s                                                                    \n"
      ]
     },
     "metadata": {},
     "output_type": "display_data"
    },
    {
     "data": {
      "text/html": [
       "<pre style=\"white-space:pre;overflow-x:auto;line-height:normal;font-family:Menlo,'DejaVu Sans Mono',consolas,'Courier New',monospace\"><span style=\"color: #008000; text-decoration-color: #008000\">DEBUG   </span> * Queue time:                  <span style=\"color: #008080; text-decoration-color: #008080; font-weight: bold\">1.</span>0829s                                                                    \n",
       "</pre>\n"
      ],
      "text/plain": [
       "\u001b[32mDEBUG   \u001b[0m * Queue time:                  \u001b[1;36m1.\u001b[0m0829s                                                                    \n"
      ]
     },
     "metadata": {},
     "output_type": "display_data"
    },
    {
     "data": {
      "text/html": [
       "<pre style=\"white-space:pre;overflow-x:auto;line-height:normal;font-family:Menlo,'DejaVu Sans Mono',consolas,'Courier New',monospace\"><span style=\"color: #008000; text-decoration-color: #008000\">DEBUG   </span> * Total time:                  <span style=\"color: #008080; text-decoration-color: #008080; font-weight: bold\">2.</span>3853s                                                                    \n",
       "</pre>\n"
      ],
      "text/plain": [
       "\u001b[32mDEBUG   \u001b[0m * Total time:                  \u001b[1;36m2.\u001b[0m3853s                                                                    \n"
      ]
     },
     "metadata": {},
     "output_type": "display_data"
    },
    {
     "data": {
      "text/html": [
       "<pre style=\"white-space:pre;overflow-x:auto;line-height:normal;font-family:Menlo,'DejaVu Sans Mono',consolas,'Courier New',monospace\"><span style=\"color: #008000; text-decoration-color: #008000\">DEBUG   </span> **************** METRICS END ******************                                                           \n",
       "</pre>\n"
      ],
      "text/plain": [
       "\u001b[32mDEBUG   \u001b[0m **************** METRICS END ******************                                                           \n"
      ]
     },
     "metadata": {},
     "output_type": "display_data"
    },
    {
     "data": {
      "text/html": [
       "<pre style=\"white-space:pre;overflow-x:auto;line-height:normal;font-family:Menlo,'DejaVu Sans Mono',consolas,'Courier New',monospace\"><span style=\"color: #008000; text-decoration-color: #008000\">DEBUG   </span> ---------- Groq Response End ----------                                                                   \n",
       "</pre>\n"
      ],
      "text/plain": [
       "\u001b[32mDEBUG   \u001b[0m ---------- Groq Response End ----------                                                                   \n"
      ]
     },
     "metadata": {},
     "output_type": "display_data"
    },
    {
     "data": {
      "text/html": [
       "<pre style=\"white-space:pre;overflow-x:auto;line-height:normal;font-family:Menlo,'DejaVu Sans Mono',consolas,'Courier New',monospace\"><span style=\"color: #008000; text-decoration-color: #008000\">DEBUG   </span> Added <span style=\"color: #008080; text-decoration-color: #008080; font-weight: bold\">4</span> Messages to AgentMemory                                                                           \n",
       "</pre>\n"
      ],
      "text/plain": [
       "\u001b[32mDEBUG   \u001b[0m Added \u001b[1;36m4\u001b[0m Messages to AgentMemory                                                                           \n"
      ]
     },
     "metadata": {},
     "output_type": "display_data"
    },
    {
     "data": {
      "text/html": [
       "<pre style=\"white-space:pre;overflow-x:auto;line-height:normal;font-family:Menlo,'DejaVu Sans Mono',consolas,'Courier New',monospace\"><span style=\"color: #008000; text-decoration-color: #008000\">DEBUG   </span> Added AgentRun to AgentMemory                                                                             \n",
       "</pre>\n"
      ],
      "text/plain": [
       "\u001b[32mDEBUG   \u001b[0m Added AgentRun to AgentMemory                                                                             \n"
      ]
     },
     "metadata": {},
     "output_type": "display_data"
    },
    {
     "data": {
      "text/html": [
       "<pre style=\"white-space:pre;overflow-x:auto;line-height:normal;font-family:Menlo,'DejaVu Sans Mono',consolas,'Courier New',monospace\"><span style=\"color: #008000; text-decoration-color: #008000\">DEBUG   </span> --**-- Logging Agent Run                                                                                  \n",
       "</pre>\n"
      ],
      "text/plain": [
       "\u001b[32mDEBUG   \u001b[0m --**-- Logging Agent Run                                                                                  \n"
      ]
     },
     "metadata": {},
     "output_type": "display_data"
    },
    {
     "data": {
      "text/html": [
       "<pre style=\"white-space:pre;overflow-x:auto;line-height:normal;font-family:Menlo,'DejaVu Sans Mono',consolas,'Courier New',monospace\"><span style=\"color: #008000; text-decoration-color: #008000\">DEBUG   </span> *********** Agent Run End: <span style=\"color: #ffff00; text-decoration-color: #ffff00\">7837c35c-757c-441a-9008-47ed56932477</span> ***********                               \n",
       "</pre>\n"
      ],
      "text/plain": [
       "\u001b[32mDEBUG   \u001b[0m *********** Agent Run End: \u001b[93m7837c35c-757c-441a-9008-47ed56932477\u001b[0m ***********                               \n"
      ]
     },
     "metadata": {},
     "output_type": "display_data"
    },
    {
     "data": {
      "text/html": [
       "<pre style=\"white-space:pre;overflow-x:auto;line-height:normal;font-family:Menlo,'DejaVu Sans Mono',consolas,'Courier New',monospace\"></pre>\n"
      ],
      "text/plain": []
     },
     "metadata": {},
     "output_type": "display_data"
    }
   ],
   "source": [
    "# Use the agent to generate and print a response to a query, formatted in Markdown\n",
    "agent.print_response(\"What is the first step of making Gluai Buat Chi from the knowledge base?\", markdown=True)"
   ]
  },
  {
   "cell_type": "code",
   "execution_count": null,
   "metadata": {},
   "outputs": [],
   "source": []
  }
 ],
 "metadata": {
  "kernelspec": {
   "display_name": "new_venv",
   "language": "python",
   "name": "python3"
  },
  "language_info": {
   "codemirror_mode": {
    "name": "ipython",
    "version": 3
   },
   "file_extension": ".py",
   "mimetype": "text/x-python",
   "name": "python",
   "nbconvert_exporter": "python",
   "pygments_lexer": "ipython3",
   "version": "3.11.7"
  }
 },
 "nbformat": 4,
 "nbformat_minor": 2
}
